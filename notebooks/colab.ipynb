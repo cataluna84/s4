{
  "nbformat": 4,
  "nbformat_minor": 0,
  "metadata": {
    "colab": {
      "provenance": [],
      "gpuType": "T4"
    },
    "kernelspec": {
      "name": "python3",
      "display_name": "Python 3"
    },
    "language_info": {
      "name": "python"
    },
    "accelerator": "GPU"
  },
  "cells": [
    {
      "cell_type": "markdown",
      "source": [
        "## Verify Original Status of Colab\n",
        "The cell outputs in this section is for reference."
      ],
      "metadata": {
        "id": "NpkmRKCdD50d"
      }
    },
    {
      "cell_type": "code",
      "source": [
        "!python -V"
      ],
      "metadata": {
        "colab": {
          "base_uri": "https://localhost:8080/"
        },
        "id": "B2ni0q7k8Ybz",
        "outputId": "f5b1b3d6-95ac-4f70-a20e-758ef68ec8a2"
      },
      "execution_count": 1,
      "outputs": [
        {
          "output_type": "stream",
          "name": "stdout",
          "text": [
            "Python 3.11.11\n"
          ]
        }
      ]
    },
    {
      "cell_type": "code",
      "source": [
        "!pip list | grep torch"
      ],
      "metadata": {
        "colab": {
          "base_uri": "https://localhost:8080/"
        },
        "id": "lJ2onFwk8TcE",
        "outputId": "aa745bc8-4e0e-4e95-c195-cfb727d4396f"
      },
      "execution_count": 2,
      "outputs": [
        {
          "output_type": "stream",
          "name": "stdout",
          "text": [
            "torch                              2.5.1+cu124\n",
            "torchaudio                         2.5.1+cu124\n",
            "torchsummary                       1.5.1\n",
            "torchvision                        0.20.1+cu124\n"
          ]
        }
      ]
    },
    {
      "cell_type": "markdown",
      "source": [
        "### Known Issues of Colab"
      ],
      "metadata": {
        "id": "74dv7s4gEVdf"
      }
    },
    {
      "cell_type": "markdown",
      "source": [
        "#### 1. Inconsistent `nvidia` Packages\n",
        "They will be fixed by `pip install` soon."
      ],
      "metadata": {
        "id": "9QjnHAcuGOON"
      }
    },
    {
      "cell_type": "code",
      "source": [
        "!pip check"
      ],
      "metadata": {
        "colab": {
          "base_uri": "https://localhost:8080/"
        },
        "id": "qXBS_JLVDtKS",
        "outputId": "c45cfc61-5df7-457e-a7fb-42ac6218c323"
      },
      "execution_count": 4,
      "outputs": [
        {
          "output_type": "stream",
          "name": "stdout",
          "text": [
            "ipython 7.34.0 requires jedi, which is not installed.\n",
            "pygobject 3.42.1 requires pycairo, which is not installed.\n",
            "torch 2.5.1+cu124 has requirement nvidia-cublas-cu12==12.4.5.8; platform_system == \"Linux\" and platform_machine == \"x86_64\", but you have nvidia-cublas-cu12 12.5.3.2.\n",
            "torch 2.5.1+cu124 has requirement nvidia-cuda-cupti-cu12==12.4.127; platform_system == \"Linux\" and platform_machine == \"x86_64\", but you have nvidia-cuda-cupti-cu12 12.5.82.\n",
            "torch 2.5.1+cu124 has requirement nvidia-cuda-nvrtc-cu12==12.4.127; platform_system == \"Linux\" and platform_machine == \"x86_64\", but you have nvidia-cuda-nvrtc-cu12 12.5.82.\n",
            "torch 2.5.1+cu124 has requirement nvidia-cuda-runtime-cu12==12.4.127; platform_system == \"Linux\" and platform_machine == \"x86_64\", but you have nvidia-cuda-runtime-cu12 12.5.82.\n",
            "torch 2.5.1+cu124 has requirement nvidia-cudnn-cu12==9.1.0.70; platform_system == \"Linux\" and platform_machine == \"x86_64\", but you have nvidia-cudnn-cu12 9.3.0.75.\n",
            "torch 2.5.1+cu124 has requirement nvidia-cufft-cu12==11.2.1.3; platform_system == \"Linux\" and platform_machine == \"x86_64\", but you have nvidia-cufft-cu12 11.2.3.61.\n",
            "torch 2.5.1+cu124 has requirement nvidia-curand-cu12==10.3.5.147; platform_system == \"Linux\" and platform_machine == \"x86_64\", but you have nvidia-curand-cu12 10.3.6.82.\n",
            "torch 2.5.1+cu124 has requirement nvidia-cusolver-cu12==11.6.1.9; platform_system == \"Linux\" and platform_machine == \"x86_64\", but you have nvidia-cusolver-cu12 11.6.3.83.\n",
            "torch 2.5.1+cu124 has requirement nvidia-cusparse-cu12==12.3.1.170; platform_system == \"Linux\" and platform_machine == \"x86_64\", but you have nvidia-cusparse-cu12 12.5.1.3.\n",
            "torch 2.5.1+cu124 has requirement nvidia-nvjitlink-cu12==12.4.127; platform_system == \"Linux\" and platform_machine == \"x86_64\", but you have nvidia-nvjitlink-cu12 12.5.82.\n"
          ]
        }
      ]
    },
    {
      "cell_type": "markdown",
      "source": [
        "#### 2. Mismatch and Unknown Linux Headers\n",
        "It prevents `dkms` from updating display drivers; seems no way to be resolved."
      ],
      "metadata": {
        "id": "V286vm7qF7BO"
      }
    },
    {
      "cell_type": "code",
      "source": [
        "!uname -r  # 6.1.85+ is unknown\n",
        "!ls /usr/src  # 5.15.0 is common for Ubuntu 22.04"
      ],
      "metadata": {
        "colab": {
          "base_uri": "https://localhost:8080/"
        },
        "id": "WfnkSJdUFaY0",
        "outputId": "e997d70e-5590-4a44-817c-af0c7f322276"
      },
      "execution_count": 8,
      "outputs": [
        {
          "output_type": "stream",
          "name": "stdout",
          "text": [
            "6.1.85+\n",
            "linux-headers-5.15.0-131  linux-headers-5.15.0-131-generic  python3.10\n"
          ]
        }
      ]
    },
    {
      "cell_type": "markdown",
      "source": [
        "## Update Dependencies"
      ],
      "metadata": {
        "id": "N3V-UnImHA46"
      }
    },
    {
      "cell_type": "markdown",
      "source": [
        "The hard-coded repo and branch below should be changed in the future.\n",
        "\n",
        "**One should also not clone from branch after each merge of PR.**"
      ],
      "metadata": {
        "id": "wKPIeQVN7W65"
      }
    },
    {
      "cell_type": "code",
      "execution_count": null,
      "metadata": {
        "id": "1t6nnWPh8leT"
      },
      "outputs": [],
      "source": [
        "%cd /content\n",
        "!rm -rf s4\n",
        "!git clone -b feat/imdb-pt251_cu124_py311 https://github.com/cataluna84/s4.git\n",
        "#!git clone https://github.com/cataluna84/s4.git"
      ]
    },
    {
      "cell_type": "code",
      "source": [
        "%cd /content/s4"
      ],
      "metadata": {
        "id": "pEV4M5Jn7_ht"
      },
      "execution_count": null,
      "outputs": []
    },
    {
      "cell_type": "code",
      "source": [
        "!pip install -r requirements.txt"
      ],
      "metadata": {
        "id": "CUJMQv8Y9rV9"
      },
      "execution_count": null,
      "outputs": []
    },
    {
      "cell_type": "code",
      "source": [
        "!pip check"
      ],
      "metadata": {
        "id": "ZOiy5ofc8N78"
      },
      "execution_count": null,
      "outputs": []
    },
    {
      "cell_type": "markdown",
      "source": [
        "## Install `torchtext`\n",
        "Compiling `torchtext` will take about 4.5 minutes.\n",
        "\n",
        "**Caveat**: This compilation may change some CUDA deps."
      ],
      "metadata": {
        "id": "LbLV2pOXmyHG"
      }
    },
    {
      "cell_type": "code",
      "source": [
        "!make torchtext"
      ],
      "metadata": {
        "id": "_DgmL6nfClAc"
      },
      "execution_count": null,
      "outputs": []
    },
    {
      "cell_type": "code",
      "source": [
        "!pip list | grep torch"
      ],
      "metadata": {
        "id": "coi9xCTI2c1X"
      },
      "execution_count": null,
      "outputs": []
    },
    {
      "cell_type": "code",
      "source": [
        "!pip check"
      ],
      "metadata": {
        "id": "Um2uruGZBpyf"
      },
      "execution_count": null,
      "outputs": []
    },
    {
      "cell_type": "markdown",
      "source": [
        "## Train S4 with IMDB"
      ],
      "metadata": {
        "id": "zbHM_k-anw7Y"
      }
    },
    {
      "cell_type": "markdown",
      "source": [
        "Remember to put your own W&B API key to Colab's Secrets."
      ],
      "metadata": {
        "id": "ibNcvlaynulo"
      }
    },
    {
      "cell_type": "code",
      "source": [
        "from google.colab import userdata\n",
        "\n",
        "\n",
        "wandb_api_key = userdata.get(\"WANDB_API_KEY\")"
      ],
      "metadata": {
        "id": "AyjNjDw_oUFT"
      },
      "execution_count": null,
      "outputs": []
    },
    {
      "cell_type": "code",
      "source": [
        "%env WANDB_API_KEY={wandb_api_key}"
      ],
      "metadata": {
        "id": "2GXe9kqRvHSt"
      },
      "execution_count": null,
      "outputs": []
    },
    {
      "cell_type": "code",
      "source": [
        "!python -m train pipeline=imdb model=s4 dataset.val_split=0.1"
      ],
      "metadata": {
        "id": "CSC32E8BA3Ri"
      },
      "execution_count": null,
      "outputs": []
    }
  ]
}