{
  "nbformat": 4,
  "nbformat_minor": 0,
  "metadata": {
    "colab": {
      "provenance": [],
      "gpuType": "T4",
      "collapsed_sections": [
        "9QjnHAcuGOON",
        "V286vm7qF7BO",
        "LbLV2pOXmyHG"
      ]
    },
    "kernelspec": {
      "name": "python3",
      "display_name": "Python 3"
    },
    "language_info": {
      "name": "python"
    },
    "accelerator": "GPU"
  },
  "cells": [
    {
      "cell_type": "markdown",
      "source": [
        "## Verify Original Status of Colab\n",
        "The cell outputs in this section is for reference."
      ],
      "metadata": {
        "id": "NpkmRKCdD50d"
      }
    },
    {
      "cell_type": "code",
      "source": [
        "!python -V"
      ],
      "metadata": {
        "colab": {
          "base_uri": "https://localhost:8080/"
        },
        "id": "B2ni0q7k8Ybz",
        "outputId": "6679ed9e-0820-452c-f6f4-64dbb6b6d2a5"
      },
      "execution_count": 1,
      "outputs": [
        {
          "output_type": "stream",
          "name": "stdout",
          "text": [
            "Python 3.11.11\n"
          ]
        }
      ]
    },
    {
      "cell_type": "code",
      "source": [
        "!pip list | grep torch"
      ],
      "metadata": {
        "colab": {
          "base_uri": "https://localhost:8080/"
        },
        "id": "lJ2onFwk8TcE",
        "outputId": "529bd036-259a-481c-d84b-3917a2a3c98c"
      },
      "execution_count": 2,
      "outputs": [
        {
          "output_type": "stream",
          "name": "stdout",
          "text": [
            "torch                              2.5.1+cu124\n",
            "torchaudio                         2.5.1+cu124\n",
            "torchsummary                       1.5.1\n",
            "torchvision                        0.20.1+cu124\n"
          ]
        }
      ]
    },
    {
      "cell_type": "markdown",
      "source": [
        "### Known Issues of Colab\n",
        "No need to run this section, which is only for note-taking."
      ],
      "metadata": {
        "id": "74dv7s4gEVdf"
      }
    },
    {
      "cell_type": "markdown",
      "source": [
        "#### 1. Inconsistent `nvidia` Packages"
      ],
      "metadata": {
        "id": "9QjnHAcuGOON"
      }
    },
    {
      "cell_type": "code",
      "source": [
        "!pip check"
      ],
      "metadata": {
        "id": "qXBS_JLVDtKS",
        "colab": {
          "base_uri": "https://localhost:8080/"
        },
        "outputId": "bcc43721-e685-46c2-f9d3-50364ea87196"
      },
      "execution_count": 3,
      "outputs": [
        {
          "output_type": "stream",
          "name": "stdout",
          "text": [
            "ipython 7.34.0 requires jedi, which is not installed.\n",
            "pygobject 3.42.1 requires pycairo, which is not installed.\n",
            "torch 2.5.1+cu124 has requirement nvidia-cublas-cu12==12.4.5.8; platform_system == \"Linux\" and platform_machine == \"x86_64\", but you have nvidia-cublas-cu12 12.5.3.2.\n",
            "torch 2.5.1+cu124 has requirement nvidia-cuda-cupti-cu12==12.4.127; platform_system == \"Linux\" and platform_machine == \"x86_64\", but you have nvidia-cuda-cupti-cu12 12.5.82.\n",
            "torch 2.5.1+cu124 has requirement nvidia-cuda-nvrtc-cu12==12.4.127; platform_system == \"Linux\" and platform_machine == \"x86_64\", but you have nvidia-cuda-nvrtc-cu12 12.5.82.\n",
            "torch 2.5.1+cu124 has requirement nvidia-cuda-runtime-cu12==12.4.127; platform_system == \"Linux\" and platform_machine == \"x86_64\", but you have nvidia-cuda-runtime-cu12 12.5.82.\n",
            "torch 2.5.1+cu124 has requirement nvidia-cudnn-cu12==9.1.0.70; platform_system == \"Linux\" and platform_machine == \"x86_64\", but you have nvidia-cudnn-cu12 9.3.0.75.\n",
            "torch 2.5.1+cu124 has requirement nvidia-cufft-cu12==11.2.1.3; platform_system == \"Linux\" and platform_machine == \"x86_64\", but you have nvidia-cufft-cu12 11.2.3.61.\n",
            "torch 2.5.1+cu124 has requirement nvidia-curand-cu12==10.3.5.147; platform_system == \"Linux\" and platform_machine == \"x86_64\", but you have nvidia-curand-cu12 10.3.6.82.\n",
            "torch 2.5.1+cu124 has requirement nvidia-cusolver-cu12==11.6.1.9; platform_system == \"Linux\" and platform_machine == \"x86_64\", but you have nvidia-cusolver-cu12 11.6.3.83.\n",
            "torch 2.5.1+cu124 has requirement nvidia-cusparse-cu12==12.3.1.170; platform_system == \"Linux\" and platform_machine == \"x86_64\", but you have nvidia-cusparse-cu12 12.5.1.3.\n",
            "torch 2.5.1+cu124 has requirement nvidia-nvjitlink-cu12==12.4.127; platform_system == \"Linux\" and platform_machine == \"x86_64\", but you have nvidia-nvjitlink-cu12 12.5.82.\n"
          ]
        }
      ]
    },
    {
      "cell_type": "markdown",
      "source": [
        "They will be fixed by reinstallation below."
      ],
      "metadata": {
        "id": "tL9h3yVmYoHU"
      }
    },
    {
      "cell_type": "code",
      "source": [
        "!pip uninstall -y torch torchaudio torchsummary torchvision"
      ],
      "metadata": {
        "id": "0DPGUhamWbNh"
      },
      "execution_count": null,
      "outputs": []
    },
    {
      "cell_type": "code",
      "source": [
        "!pip install torch==2.5.1 torchvision==0.20.1 torchaudio==2.5.1 --index-url https://download.pytorch.org/whl/cu124"
      ],
      "metadata": {
        "id": "yt4nK6e-WtXy"
      },
      "execution_count": null,
      "outputs": []
    },
    {
      "cell_type": "code",
      "source": [
        "!pip install jedi"
      ],
      "metadata": {
        "id": "u2C6VjU7Xd8u"
      },
      "execution_count": null,
      "outputs": []
    },
    {
      "cell_type": "markdown",
      "source": [
        "It seems impossible to fix pygobject..."
      ],
      "metadata": {
        "id": "PEH2zJmpz_Mu"
      }
    },
    {
      "cell_type": "code",
      "source": [
        "!pip uninstall -y pygobject"
      ],
      "metadata": {
        "id": "_n-A7aCeYBp0"
      },
      "execution_count": null,
      "outputs": []
    },
    {
      "cell_type": "code",
      "source": [
        "!pip check"
      ],
      "metadata": {
        "id": "EzA6GGomYwW7",
        "colab": {
          "base_uri": "https://localhost:8080/"
        },
        "outputId": "12143c75-438d-4eb8-a22c-449911864e95"
      },
      "execution_count": 8,
      "outputs": [
        {
          "output_type": "stream",
          "name": "stdout",
          "text": [
            "No broken requirements found.\n"
          ]
        }
      ]
    },
    {
      "cell_type": "markdown",
      "source": [
        "#### 2. Mismatch and Unknown Linux Headers\n",
        "It prevents `dkms` from updating display drivers; seems no way to be resolved."
      ],
      "metadata": {
        "id": "V286vm7qF7BO"
      }
    },
    {
      "cell_type": "code",
      "source": [
        "!uname -r  # 6.1.85+ is unknown\n",
        "!ls /usr/src  # 5.15.0 is common for Ubuntu 22.04"
      ],
      "metadata": {
        "colab": {
          "base_uri": "https://localhost:8080/"
        },
        "id": "WfnkSJdUFaY0",
        "outputId": "7fb2df4c-f481-4d0b-8f6f-cbe2c84d80d1"
      },
      "execution_count": 9,
      "outputs": [
        {
          "output_type": "stream",
          "name": "stdout",
          "text": [
            "6.1.85+\n",
            "linux-headers-5.15.0-133  linux-headers-5.15.0-133-generic  python3.10\n"
          ]
        }
      ]
    },
    {
      "cell_type": "markdown",
      "source": [
        "## Work with Cohore Repo"
      ],
      "metadata": {
        "id": "LJGRwWqjShm0"
      }
    },
    {
      "cell_type": "markdown",
      "source": [
        "The hard-coded repo and branch below should be changed in the future.\n",
        "\n",
        "**One should also not clone from branch after each merge of PR.**"
      ],
      "metadata": {
        "id": "wKPIeQVN7W65"
      }
    },
    {
      "cell_type": "code",
      "execution_count": null,
      "metadata": {
        "id": "1t6nnWPh8leT"
      },
      "outputs": [],
      "source": [
        "%cd /content\n",
        "!rm -rf s4\n",
        "!git clone -b build/deps-py312 https://github.com/cataluna84/s4.git\n",
        "#!git clone https://github.com/cataluna84/s4.git"
      ]
    },
    {
      "cell_type": "code",
      "source": [
        "%cd /content/s4"
      ],
      "metadata": {
        "id": "pEV4M5Jn7_ht"
      },
      "execution_count": null,
      "outputs": []
    },
    {
      "cell_type": "markdown",
      "source": [
        "## Install a Newer Python in Colab's Ubuntu 22.04"
      ],
      "metadata": {
        "id": "gVKivcbvd_qT"
      }
    },
    {
      "cell_type": "markdown",
      "source": [
        "The command below shows that Colab's Ubuntu has already included `ppa:deadsnakes/ppa`."
      ],
      "metadata": {
        "id": "6V43uTPVTHQb"
      }
    },
    {
      "cell_type": "code",
      "source": [
        "!apt-cache search -n \"^python3.1[234]-?\""
      ],
      "metadata": {
        "colab": {
          "base_uri": "https://localhost:8080/"
        },
        "id": "FGpCJNitjZUc",
        "outputId": "0fba77ba-c065-416b-a687-4e7ae686c1df"
      },
      "execution_count": 12,
      "outputs": [
        {
          "output_type": "stream",
          "name": "stdout",
          "text": [
            "python3.12 - Interactive high-level object-oriented language (version 3.12)\n",
            "python3.12-dbg - Debug Build of the Python Interpreter (version 3.12)\n",
            "python3.12-dev - Header files and a static library for Python (v3.12)\n",
            "python3.12-examples - Examples for the Python language (v3.12)\n",
            "python3.12-full - Python Interpreter with complete class library (version 3.12)\n",
            "python3.12-gdbm - GNU dbm database support for Python (version 3.12)\n",
            "python3.12-gdbm-dbg - GNU dbm database support for Python (version 3.12 debug extension)\n",
            "python3.12-lib2to3 - lib2to3 package for Python (version 3.12)\n",
            "python3.12-tk - Tkinter - Writing Tk applications with Python (version 3.12)\n",
            "python3.12-tk-dbg - Tkinter - Writing Tk applications with Python (version 3.12 debug extension)\n",
            "python3.12-venv - Interactive high-level object-oriented language (pyvenv binary, version 3.12)\n",
            "python3.13 - Interactive high-level object-oriented language (version 3.13)\n",
            "python3.13-dbg - Debug Build of the Python Interpreter (version 3.13)\n",
            "python3.13-dev - Header files and a static library for Python (v3.13)\n",
            "python3.13-examples - Examples for the Python language (v3.13)\n",
            "python3.13-full - Python Interpreter with complete class library (version 3.13)\n",
            "python3.13-gdbm - GNU dbm database support for Python (version 3.13)\n",
            "python3.13-gdbm-dbg - GNU dbm database support for Python (version 3.13 debug extension)\n",
            "python3.13-gdbm-nogil - GNU dbm database support for Python (version 3.13 nogil extension)\n",
            "python3.13-nogil - No-GIL Build of the Python Interpreter (version 3.13)\n",
            "python3.13-tk - Tkinter - Writing Tk applications with Python (version 3.13)\n",
            "python3.13-tk-dbg - Tkinter - Writing Tk applications with Python (version 3.13 debug extension)\n",
            "python3.13-tk-nogil - Tkinter - Writing Tk applications with Python (version 3.13 nogil extension)\n",
            "python3.13-venv - Interactive high-level object-oriented language (pyvenv binary, version 3.13)\n",
            "python3.14 - Interactive high-level object-oriented language (version 3.14)\n",
            "python3.14-dbg - Debug Build of the Python Interpreter (version 3.14)\n",
            "python3.14-dev - Header files and a static library for Python (v3.14)\n",
            "python3.14-examples - Examples for the Python language (v3.14)\n",
            "python3.14-full - Python Interpreter with complete class library (version 3.14)\n",
            "python3.14-gdbm - GNU dbm database support for Python (version 3.14)\n",
            "python3.14-gdbm-dbg - GNU dbm database support for Python (version 3.14 debug extension)\n",
            "python3.14-gdbm-nogil - GNU dbm database support for Python (version 3.14 nogil extension)\n",
            "python3.14-nogil - No-GIL Build of the Python Interpreter (version 3.14)\n",
            "python3.14-tk - Tkinter - Writing Tk applications with Python (version 3.14)\n",
            "python3.14-tk-dbg - Tkinter - Writing Tk applications with Python (version 3.14 debug extension)\n",
            "python3.14-tk-nogil - Tkinter - Writing Tk applications with Python (version 3.14 nogil extension)\n",
            "python3.14-venv - Interactive high-level object-oriented language (pyvenv binary, version 3.14)\n"
          ]
        }
      ]
    },
    {
      "cell_type": "markdown",
      "source": [
        "### Install Python 3.12"
      ],
      "metadata": {
        "id": "YmwHOqTi0uL0"
      }
    },
    {
      "cell_type": "code",
      "source": [
        "!make py312"
      ],
      "metadata": {
        "id": "YzHasxUNUEfs"
      },
      "execution_count": null,
      "outputs": []
    },
    {
      "cell_type": "code",
      "source": [
        "!python -V"
      ],
      "metadata": {
        "colab": {
          "base_uri": "https://localhost:8080/"
        },
        "id": "PrBAfXY4rEkG",
        "outputId": "c016a2a3-dc22-4073-8746-1ecebf9a0890"
      },
      "execution_count": 14,
      "outputs": [
        {
          "output_type": "stream",
          "name": "stdout",
          "text": [
            "Python 3.12.9\n"
          ]
        }
      ]
    },
    {
      "cell_type": "markdown",
      "source": [
        "## Prepare a Virtual Environment"
      ],
      "metadata": {
        "id": "iH2i8GAL0SRi"
      }
    },
    {
      "cell_type": "code",
      "source": [
        "!python -m venv ~/venv/py312_cu126_pt260"
      ],
      "metadata": {
        "id": "E5M_4fTn0U25"
      },
      "execution_count": 15,
      "outputs": []
    },
    {
      "cell_type": "code",
      "source": [
        "!source ~/venv/py312_cu126_pt260/bin/activate; python -V; pip list"
      ],
      "metadata": {
        "id": "Eb72gW1M1CbI",
        "colab": {
          "base_uri": "https://localhost:8080/"
        },
        "outputId": "cf2c1002-40c4-49f4-f083-e9d42e0638af"
      },
      "execution_count": 16,
      "outputs": [
        {
          "output_type": "stream",
          "name": "stdout",
          "text": [
            "Python 3.12.9\n",
            "Package Version\n",
            "------- -------\n",
            "pip     24.3.1\n"
          ]
        }
      ]
    },
    {
      "cell_type": "markdown",
      "source": [
        "## Update Dependencies"
      ],
      "metadata": {
        "id": "N3V-UnImHA46"
      }
    },
    {
      "cell_type": "code",
      "source": [
        "!source ~/venv/py312_cu126_pt260/bin/activate; make pt260"
      ],
      "metadata": {
        "id": "Urf2lYdZ426M"
      },
      "execution_count": null,
      "outputs": []
    },
    {
      "cell_type": "code",
      "source": [
        "!source ~/venv/py312_cu126_pt260/bin/activate; pip list | grep torch"
      ],
      "metadata": {
        "colab": {
          "base_uri": "https://localhost:8080/"
        },
        "id": "vcg2-ruh8HFu",
        "outputId": "3e3f27c3-dba0-43ce-e40a-333ba884e38d"
      },
      "execution_count": 18,
      "outputs": [
        {
          "output_type": "stream",
          "name": "stdout",
          "text": [
            "torch                    2.6.0+cu126\n",
            "torchaudio               2.6.0+cu126\n",
            "torchvision              0.21.0+cu126\n"
          ]
        }
      ]
    },
    {
      "cell_type": "code",
      "source": [
        "!source ~/venv/py312_cu126_pt260/bin/activate; make lib"
      ],
      "metadata": {
        "id": "BAtS_D23nak-"
      },
      "execution_count": null,
      "outputs": []
    },
    {
      "cell_type": "code",
      "source": [
        "!source ~/venv/py312_cu126_pt260/bin/activate; pip check"
      ],
      "metadata": {
        "colab": {
          "base_uri": "https://localhost:8080/"
        },
        "id": "3lTuqHK1sMwy",
        "outputId": "cad516f1-20ff-4eda-b047-baa6c6e5858e"
      },
      "execution_count": 23,
      "outputs": [
        {
          "output_type": "stream",
          "name": "stdout",
          "text": [
            "No broken requirements found.\n"
          ]
        }
      ]
    },
    {
      "cell_type": "markdown",
      "source": [
        "The venv needs `matplotlib-inline`."
      ],
      "metadata": {
        "id": "HzJOEvCitBF-"
      }
    },
    {
      "cell_type": "code",
      "source": [
        "!source ~/venv/py312_cu126_pt260/bin/activate; pip install matplotlib-inline"
      ],
      "metadata": {
        "id": "fI1tfzA6sygt"
      },
      "execution_count": null,
      "outputs": []
    },
    {
      "cell_type": "markdown",
      "source": [
        "## Train S4 with IMDB"
      ],
      "metadata": {
        "id": "zbHM_k-anw7Y"
      }
    },
    {
      "cell_type": "markdown",
      "source": [
        "Remember to put your own W&B API key to Colab's Secrets."
      ],
      "metadata": {
        "id": "ibNcvlaynulo"
      }
    },
    {
      "cell_type": "code",
      "source": [
        "from google.colab import userdata\n",
        "\n",
        "\n",
        "wandb_api_key = userdata.get(\"WANDB_API_KEY\")"
      ],
      "metadata": {
        "id": "AyjNjDw_oUFT"
      },
      "execution_count": 24,
      "outputs": []
    },
    {
      "cell_type": "code",
      "source": [
        "%env WANDB_API_KEY={wandb_api_key}"
      ],
      "metadata": {
        "id": "2GXe9kqRvHSt"
      },
      "execution_count": null,
      "outputs": []
    },
    {
      "cell_type": "markdown",
      "source": [
        "The values of `n_layers` and `d_model` are for smaller memory footprints."
      ],
      "metadata": {
        "id": "qauWr_VrgjYP"
      }
    },
    {
      "cell_type": "code",
      "source": [
        "!source ~/venv/py312_cu126_pt260/bin/activate; python -m train pipeline=imdb model=s4 dataset.val_split=0.1 model.n_layers=3 model.d_model=128"
      ],
      "metadata": {
        "id": "faGc_prl-X06"
      },
      "execution_count": null,
      "outputs": []
    }
  ]
}