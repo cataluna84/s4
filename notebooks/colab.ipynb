{
  "nbformat": 4,
  "nbformat_minor": 0,
  "metadata": {
    "colab": {
      "provenance": [],
      "gpuType": "T4",
      "collapsed_sections": [
        "LXUd0W3Uli7x"
      ]
    },
    "kernelspec": {
      "name": "python3",
      "display_name": "Python 3"
    },
    "language_info": {
      "name": "python"
    },
    "accelerator": "GPU"
  },
  "cells": [
    {
      "cell_type": "markdown",
      "source": [
        "# Train S4 on Colab\n",
        "Please skip the [WIP] section. This notebook can only run with the current version of Colab, i.e. [2025-01-13](https://colab.research.google.com/notebooks/relnotes.ipynb#scrollTo=414ec961):\n",
        "- `python` 3.11\n",
        "- `torch` 2.5.1\n",
        "- `cuda` 12.4\n",
        "\n",
        "The cell outputs in this section is for reference."
      ],
      "metadata": {
        "id": "Vib3wcCmp-nN"
      }
    },
    {
      "cell_type": "code",
      "source": [
        "!uname -m && cat /etc/*release"
      ],
      "metadata": {
        "colab": {
          "base_uri": "https://localhost:8080/"
        },
        "id": "L5wyMtr6OGaN",
        "outputId": "dfa44e22-2cd0-49a0-bcb6-626efae8115c"
      },
      "execution_count": 2,
      "outputs": [
        {
          "output_type": "stream",
          "name": "stdout",
          "text": [
            "x86_64\n",
            "DISTRIB_ID=Ubuntu\n",
            "DISTRIB_RELEASE=22.04\n",
            "DISTRIB_CODENAME=jammy\n",
            "DISTRIB_DESCRIPTION=\"Ubuntu 22.04.4 LTS\"\n",
            "PRETTY_NAME=\"Ubuntu 22.04.4 LTS\"\n",
            "NAME=\"Ubuntu\"\n",
            "VERSION_ID=\"22.04\"\n",
            "VERSION=\"22.04.4 LTS (Jammy Jellyfish)\"\n",
            "VERSION_CODENAME=jammy\n",
            "ID=ubuntu\n",
            "ID_LIKE=debian\n",
            "HOME_URL=\"https://www.ubuntu.com/\"\n",
            "SUPPORT_URL=\"https://help.ubuntu.com/\"\n",
            "BUG_REPORT_URL=\"https://bugs.launchpad.net/ubuntu/\"\n",
            "PRIVACY_POLICY_URL=\"https://www.ubuntu.com/legal/terms-and-policies/privacy-policy\"\n",
            "UBUNTU_CODENAME=jammy\n"
          ]
        }
      ]
    },
    {
      "cell_type": "code",
      "source": [
        "!nvcc -V"
      ],
      "metadata": {
        "colab": {
          "base_uri": "https://localhost:8080/"
        },
        "id": "qqJU-BoyrVB0",
        "outputId": "b236a84a-b2bc-43ca-f57d-781b5cb67420"
      },
      "execution_count": 3,
      "outputs": [
        {
          "output_type": "stream",
          "name": "stdout",
          "text": [
            "nvcc: NVIDIA (R) Cuda compiler driver\n",
            "Copyright (c) 2005-2024 NVIDIA Corporation\n",
            "Built on Thu_Jun__6_02:18:23_PDT_2024\n",
            "Cuda compilation tools, release 12.5, V12.5.82\n",
            "Build cuda_12.5.r12.5/compiler.34385749_0\n"
          ]
        }
      ]
    },
    {
      "cell_type": "code",
      "source": [
        "!nvidia-smi"
      ],
      "metadata": {
        "colab": {
          "base_uri": "https://localhost:8080/"
        },
        "id": "Ibw0bw2ErWOn",
        "outputId": "229243a8-4ff0-4760-b806-4003a53bbe5a"
      },
      "execution_count": 4,
      "outputs": [
        {
          "output_type": "stream",
          "name": "stdout",
          "text": [
            "Fri Feb  7 10:42:34 2025       \n",
            "+-----------------------------------------------------------------------------------------+\n",
            "| NVIDIA-SMI 550.54.15              Driver Version: 550.54.15      CUDA Version: 12.4     |\n",
            "|-----------------------------------------+------------------------+----------------------+\n",
            "| GPU  Name                 Persistence-M | Bus-Id          Disp.A | Volatile Uncorr. ECC |\n",
            "| Fan  Temp   Perf          Pwr:Usage/Cap |           Memory-Usage | GPU-Util  Compute M. |\n",
            "|                                         |                        |               MIG M. |\n",
            "|=========================================+========================+======================|\n",
            "|   0  Tesla T4                       Off |   00000000:00:04.0 Off |                    0 |\n",
            "| N/A   43C    P8              9W /   70W |       0MiB /  15360MiB |      0%      Default |\n",
            "|                                         |                        |                  N/A |\n",
            "+-----------------------------------------+------------------------+----------------------+\n",
            "                                                                                         \n",
            "+-----------------------------------------------------------------------------------------+\n",
            "| Processes:                                                                              |\n",
            "|  GPU   GI   CI        PID   Type   Process name                              GPU Memory |\n",
            "|        ID   ID                                                               Usage      |\n",
            "|=========================================================================================|\n",
            "|  No running processes found                                                             |\n",
            "+-----------------------------------------------------------------------------------------+\n"
          ]
        }
      ]
    },
    {
      "cell_type": "code",
      "source": [
        "!pip list | grep torch"
      ],
      "metadata": {
        "colab": {
          "base_uri": "https://localhost:8080/"
        },
        "id": "RQfLRUAortfb",
        "outputId": "0dfbb84a-01a7-42c3-fbfe-a0f21e6d81fb"
      },
      "execution_count": 1,
      "outputs": [
        {
          "output_type": "stream",
          "name": "stdout",
          "text": [
            "torch                              2.5.1+cu124\n",
            "torchaudio                         2.5.1+cu124\n",
            "torchsummary                       1.5.1\n",
            "torchvision                        0.20.1+cu124\n"
          ]
        }
      ]
    },
    {
      "cell_type": "code",
      "source": [
        "!pip check"
      ],
      "metadata": {
        "colab": {
          "base_uri": "https://localhost:8080/"
        },
        "id": "StxChw_frfL9",
        "outputId": "f41fbec5-af9e-4371-d543-080bb8797256"
      },
      "execution_count": 5,
      "outputs": [
        {
          "output_type": "stream",
          "name": "stdout",
          "text": [
            "ipython 7.34.0 requires jedi, which is not installed.\n",
            "pygobject 3.42.1 requires pycairo, which is not installed.\n",
            "torch 2.5.1+cu124 has requirement nvidia-cublas-cu12==12.4.5.8; platform_system == \"Linux\" and platform_machine == \"x86_64\", but you have nvidia-cublas-cu12 12.5.3.2.\n",
            "torch 2.5.1+cu124 has requirement nvidia-cuda-cupti-cu12==12.4.127; platform_system == \"Linux\" and platform_machine == \"x86_64\", but you have nvidia-cuda-cupti-cu12 12.5.82.\n",
            "torch 2.5.1+cu124 has requirement nvidia-cuda-nvrtc-cu12==12.4.127; platform_system == \"Linux\" and platform_machine == \"x86_64\", but you have nvidia-cuda-nvrtc-cu12 12.5.82.\n",
            "torch 2.5.1+cu124 has requirement nvidia-cuda-runtime-cu12==12.4.127; platform_system == \"Linux\" and platform_machine == \"x86_64\", but you have nvidia-cuda-runtime-cu12 12.5.82.\n",
            "torch 2.5.1+cu124 has requirement nvidia-cudnn-cu12==9.1.0.70; platform_system == \"Linux\" and platform_machine == \"x86_64\", but you have nvidia-cudnn-cu12 9.3.0.75.\n",
            "torch 2.5.1+cu124 has requirement nvidia-cufft-cu12==11.2.1.3; platform_system == \"Linux\" and platform_machine == \"x86_64\", but you have nvidia-cufft-cu12 11.2.3.61.\n",
            "torch 2.5.1+cu124 has requirement nvidia-curand-cu12==10.3.5.147; platform_system == \"Linux\" and platform_machine == \"x86_64\", but you have nvidia-curand-cu12 10.3.6.82.\n",
            "torch 2.5.1+cu124 has requirement nvidia-cusolver-cu12==11.6.1.9; platform_system == \"Linux\" and platform_machine == \"x86_64\", but you have nvidia-cusolver-cu12 11.6.3.83.\n",
            "torch 2.5.1+cu124 has requirement nvidia-cusparse-cu12==12.3.1.170; platform_system == \"Linux\" and platform_machine == \"x86_64\", but you have nvidia-cusparse-cu12 12.5.1.3.\n",
            "torch 2.5.1+cu124 has requirement nvidia-nvjitlink-cu12==12.4.127; platform_system == \"Linux\" and platform_machine == \"x86_64\", but you have nvidia-nvjitlink-cu12 12.5.82.\n"
          ]
        }
      ]
    },
    {
      "cell_type": "markdown",
      "source": [
        "The inconsistent `nvidia` packages will be fixed by `pip install pytorch-lightning` soon."
      ],
      "metadata": {
        "id": "pmdvQ5RS-En6"
      }
    },
    {
      "cell_type": "markdown",
      "source": [
        "## [WIP] Upgrade CUDA (SKIP ME!)"
      ],
      "metadata": {
        "id": "LXUd0W3Uli7x"
      }
    },
    {
      "cell_type": "code",
      "source": [
        "!wget https://developer.download.nvidia.com/compute/cuda/repos/ubuntu2204/x86_64/cuda-keyring_1.1-1_all.deb"
      ],
      "metadata": {
        "id": "I1w9S9byKq6d"
      },
      "execution_count": null,
      "outputs": []
    },
    {
      "cell_type": "code",
      "source": [
        "!sudo dpkg -i cuda-keyring_1.1-1_all.deb"
      ],
      "metadata": {
        "id": "ccdjmNpZKujm"
      },
      "execution_count": null,
      "outputs": []
    },
    {
      "cell_type": "code",
      "source": [
        "!sudo apt-get update"
      ],
      "metadata": {
        "id": "36BDZZOEKwW4"
      },
      "execution_count": null,
      "outputs": []
    },
    {
      "cell_type": "code",
      "source": [
        "!sudo apt-get -y install cuda-toolkit-12-6"
      ],
      "metadata": {
        "id": "9oWUZE7qKy_n"
      },
      "execution_count": null,
      "outputs": []
    },
    {
      "cell_type": "code",
      "source": [
        "!sudo apt-get install -y nvidia-open"
      ],
      "metadata": {
        "id": "pwhi1XbKMzXu"
      },
      "execution_count": null,
      "outputs": []
    },
    {
      "cell_type": "code",
      "source": [
        "!sudo update-alternatives --display cuda"
      ],
      "metadata": {
        "id": "vrSxNovqRWIz"
      },
      "execution_count": null,
      "outputs": []
    },
    {
      "cell_type": "code",
      "source": [
        "!sudo update-alternatives --config cuda"
      ],
      "metadata": {
        "id": "5x2tcgT0RcdN"
      },
      "execution_count": null,
      "outputs": []
    },
    {
      "cell_type": "code",
      "source": [
        "!ls -alh /usr/local/cuda-12.6/targets/x86_64-linux/lib"
      ],
      "metadata": {
        "id": "40_XXJjuREi-"
      },
      "execution_count": null,
      "outputs": []
    },
    {
      "cell_type": "code",
      "source": [
        "!echo $PATH"
      ],
      "metadata": {
        "id": "OAEOyxp3RAqf"
      },
      "execution_count": null,
      "outputs": []
    },
    {
      "cell_type": "code",
      "source": [
        "%env PATH=/usr/local/cuda-12.6/bin:/usr/bin\n",
        "!echo $PATH"
      ],
      "metadata": {
        "id": "w8rC0HCyRuDh"
      },
      "execution_count": null,
      "outputs": []
    },
    {
      "cell_type": "code",
      "source": [
        "!echo $LD_LIBRARY_PATH"
      ],
      "metadata": {
        "id": "YilXzbZUUpCF"
      },
      "execution_count": null,
      "outputs": []
    },
    {
      "cell_type": "code",
      "source": [
        "%env LD_LIBRARY_PATH=/usr/local/cuda-12.6/lib64\n",
        "!echo $LD_LIBRARY_PATH"
      ],
      "metadata": {
        "id": "EFjmfkZsUrT9"
      },
      "execution_count": null,
      "outputs": []
    },
    {
      "cell_type": "code",
      "source": [
        "!lsmod | grep nvidia"
      ],
      "metadata": {
        "id": "QfuLLxWMVeVp"
      },
      "execution_count": null,
      "outputs": []
    },
    {
      "cell_type": "code",
      "source": [
        "!sudo rmmod nvidia_drm\n",
        "!sudo rmmod nvidia_modeset\n",
        "!sudo rmmod nvidia_uvm"
      ],
      "metadata": {
        "id": "X5LKBKlOWCdX"
      },
      "execution_count": null,
      "outputs": []
    },
    {
      "cell_type": "code",
      "source": [
        "!sudo rmmod nvidia"
      ],
      "metadata": {
        "id": "Gp4zo0aBWPwi"
      },
      "execution_count": null,
      "outputs": []
    },
    {
      "cell_type": "code",
      "source": [
        "!sudo lsof /dev/nvidia*"
      ],
      "metadata": {
        "id": "loKtS9nJWLOH"
      },
      "execution_count": null,
      "outputs": []
    },
    {
      "cell_type": "code",
      "source": [
        "!pip uninstall -y fastai"
      ],
      "metadata": {
        "id": "Qq1x9now_ggm"
      },
      "execution_count": null,
      "outputs": []
    },
    {
      "cell_type": "code",
      "source": [
        "!pip uninstall -y torch torchaudio torchsummary torchvision"
      ],
      "metadata": {
        "id": "ZBtssjC37m2R"
      },
      "execution_count": null,
      "outputs": []
    },
    {
      "cell_type": "code",
      "source": [
        "!pip install torch torchaudio torchvision --index-url https://download.pytorch.org/whl/cu126"
      ],
      "metadata": {
        "id": "cY9NRaMe9bei"
      },
      "execution_count": null,
      "outputs": []
    },
    {
      "cell_type": "code",
      "source": [
        "!pip list | grep nvidia"
      ],
      "metadata": {
        "id": "dbrQR-4j_36M"
      },
      "execution_count": null,
      "outputs": []
    },
    {
      "cell_type": "markdown",
      "source": [
        "## Install minimum deps\n",
        "Many deps are already built-in. This is just a Colab shortcut. We will have an updated `requirements.txt` in the near future."
      ],
      "metadata": {
        "id": "8hfKmxKZm6xv"
      }
    },
    {
      "cell_type": "code",
      "source": [
        "!pip install pytorch-lightning"
      ],
      "metadata": {
        "id": "eQ_G298f_iLt"
      },
      "execution_count": null,
      "outputs": []
    },
    {
      "cell_type": "code",
      "source": [
        "!pip check"
      ],
      "metadata": {
        "id": "ykdRjQ9SAvWa"
      },
      "execution_count": null,
      "outputs": []
    },
    {
      "cell_type": "code",
      "source": [
        "!pip install datasets"
      ],
      "metadata": {
        "id": "INGsSMcPFO8R"
      },
      "execution_count": null,
      "outputs": []
    },
    {
      "cell_type": "code",
      "source": [
        "!pip install \"gcsfs<2024.10.0\""
      ],
      "metadata": {
        "collapsed": true,
        "id": "p9sNIu0iA0tw"
      },
      "execution_count": null,
      "outputs": []
    },
    {
      "cell_type": "code",
      "source": [
        "!pip check"
      ],
      "metadata": {
        "id": "oPIPkvteBIs-"
      },
      "execution_count": null,
      "outputs": []
    },
    {
      "cell_type": "markdown",
      "source": [
        "***Better restart the Colab session after installing `hydra-core` below.***"
      ],
      "metadata": {
        "id": "PwKThFYMz7O-"
      }
    },
    {
      "cell_type": "code",
      "source": [
        "!pip install hydra-core"
      ],
      "metadata": {
        "id": "hBSQlXAx9uuY"
      },
      "execution_count": null,
      "outputs": []
    },
    {
      "cell_type": "markdown",
      "source": [
        "The deps below seem unnecessary for `mnist` and yet I don't know whether they are required for `imdb`."
      ],
      "metadata": {
        "id": "DaIOONXG4yQ1"
      }
    },
    {
      "cell_type": "code",
      "source": [
        "!pip install torchdata"
      ],
      "metadata": {
        "id": "qX6kIuTR46bs"
      },
      "execution_count": null,
      "outputs": []
    },
    {
      "cell_type": "code",
      "source": [
        "!pip install spacy\n",
        "!python -m spacy download en_core_web_sm"
      ],
      "metadata": {
        "id": "IRGfcoXRzu_3"
      },
      "execution_count": 2,
      "outputs": []
    },
    {
      "cell_type": "code",
      "source": [
        "!pip install sacremoses"
      ],
      "metadata": {
        "id": "2_FcABny5AIM"
      },
      "execution_count": null,
      "outputs": []
    },
    {
      "cell_type": "markdown",
      "source": [
        "## Compile `torchtext`"
      ],
      "metadata": {
        "id": "LbLV2pOXmyHG"
      }
    },
    {
      "cell_type": "code",
      "source": [
        "!pip install ninja"
      ],
      "metadata": {
        "id": "lFs9AJ6c09ry"
      },
      "execution_count": null,
      "outputs": []
    },
    {
      "cell_type": "code",
      "source": [
        "%cd /content"
      ],
      "metadata": {
        "id": "3w4T6TkF9tRq"
      },
      "execution_count": null,
      "outputs": []
    },
    {
      "cell_type": "code",
      "source": [
        "!rm -rf torchtext"
      ],
      "metadata": {
        "id": "f5dqzlMR9ufv"
      },
      "execution_count": 6,
      "outputs": []
    },
    {
      "cell_type": "code",
      "source": [
        "!git clone https://github.com/pytorch/text torchtext"
      ],
      "metadata": {
        "id": "lppWDRpPCVWO"
      },
      "execution_count": null,
      "outputs": []
    },
    {
      "cell_type": "code",
      "source": [
        "%cd /content/torchtext"
      ],
      "metadata": {
        "id": "1dflj_W3CY50"
      },
      "execution_count": null,
      "outputs": []
    },
    {
      "cell_type": "code",
      "source": [
        "!git submodule update --init --recursive"
      ],
      "metadata": {
        "id": "cX8KCvzECeX4"
      },
      "execution_count": null,
      "outputs": []
    },
    {
      "cell_type": "markdown",
      "source": [
        "Compiling `torchtext` will take about 4.5 minutes.\n",
        "\n",
        "**Caveat**: This compilation may change some CUDA deps."
      ],
      "metadata": {
        "id": "6Rl7Z88Lt_nL"
      }
    },
    {
      "cell_type": "code",
      "source": [
        "!python setup.py clean install"
      ],
      "metadata": {
        "id": "_DgmL6nfClAc"
      },
      "execution_count": null,
      "outputs": []
    },
    {
      "cell_type": "code",
      "source": [
        "!pip list | grep torch"
      ],
      "metadata": {
        "id": "coi9xCTI2c1X"
      },
      "execution_count": null,
      "outputs": []
    },
    {
      "cell_type": "code",
      "source": [
        "!pip check"
      ],
      "metadata": {
        "id": "Um2uruGZBpyf"
      },
      "execution_count": null,
      "outputs": []
    },
    {
      "cell_type": "markdown",
      "source": [
        "## Train S4 with IMDB"
      ],
      "metadata": {
        "id": "zbHM_k-anw7Y"
      }
    },
    {
      "cell_type": "code",
      "source": [
        "%cd /content"
      ],
      "metadata": {
        "colab": {
          "base_uri": "https://localhost:8080/"
        },
        "id": "uTJAFxHpu_OA",
        "outputId": "8071a2e2-7677-475a-8489-d9154184bd3b"
      },
      "execution_count": 14,
      "outputs": [
        {
          "output_type": "stream",
          "name": "stdout",
          "text": [
            "/content\n"
          ]
        }
      ]
    },
    {
      "cell_type": "code",
      "source": [
        "!rm -rf s4"
      ],
      "metadata": {
        "id": "7NLKx4N17ml1"
      },
      "execution_count": 15,
      "outputs": []
    },
    {
      "cell_type": "markdown",
      "source": [
        "The hard-coded repo and branch below should be changed in the future."
      ],
      "metadata": {
        "id": "wKPIeQVN7W65"
      }
    },
    {
      "cell_type": "code",
      "execution_count": null,
      "metadata": {
        "id": "1t6nnWPh8leT"
      },
      "outputs": [],
      "source": [
        "!git clone -b build/colab_poetry https://github.com/tianjianjiang/s4.git"
      ]
    },
    {
      "cell_type": "code",
      "source": [
        "%cd /content/s4"
      ],
      "metadata": {
        "id": "CUJMQv8Y9rV9"
      },
      "execution_count": null,
      "outputs": []
    },
    {
      "cell_type": "markdown",
      "source": [
        "Remember to put your own W&B API key to Colab's Secrets."
      ],
      "metadata": {
        "id": "ibNcvlaynulo"
      }
    },
    {
      "cell_type": "code",
      "source": [
        "from google.colab import userdata\n",
        "\n",
        "\n",
        "wandb_api_key = userdata.get(\"WANDB_API_KEY\")"
      ],
      "metadata": {
        "id": "AyjNjDw_oUFT"
      },
      "execution_count": 18,
      "outputs": []
    },
    {
      "cell_type": "code",
      "source": [
        "%env WANDB_API_KEY={wandb_api_key}"
      ],
      "metadata": {
        "id": "2GXe9kqRvHSt"
      },
      "execution_count": null,
      "outputs": []
    },
    {
      "cell_type": "code",
      "source": [
        "!python -m train pipeline=imdb model=s4"
      ],
      "metadata": {
        "id": "aceqLtIb_gIn",
        "colab": {
          "base_uri": "https://localhost:8080/"
        },
        "outputId": "ca9d674e-4230-4a8b-aaa6-bfc0106e4f0c"
      },
      "execution_count": 20,
      "outputs": [
        {
          "output_type": "stream",
          "name": "stdout",
          "text": [
            "\u001b[2mCONFIG\u001b[0m\n",
            "\u001b[2m├── \u001b[0m\u001b[2mtrain\u001b[0m\n",
            "\u001b[2m│   \u001b[0m\u001b[2m└── \u001b[0m\u001b[2;91;40mseed\u001b[0m\u001b[2;97;40m:\u001b[0m\u001b[2;97;40m \u001b[0m\u001b[2;40m0                                                                                     \u001b[0m\n",
            "\u001b[2m│   \u001b[0m\u001b[2m    \u001b[0m\u001b[2;91;40mname\u001b[0m\u001b[2;97;40m:\u001b[0m\u001b[2;97;40m \u001b[0m\u001b[2;40mnull                                                                                  \u001b[0m\n",
            "\u001b[2m│   \u001b[0m\u001b[2m    \u001b[0m\u001b[2;91;40minterval\u001b[0m\u001b[2;97;40m:\u001b[0m\u001b[2;97;40m \u001b[0m\u001b[2;40mepoch                                                                             \u001b[0m\n",
            "\u001b[2m│   \u001b[0m\u001b[2m    \u001b[0m\u001b[2;91;40mmonitor\u001b[0m\u001b[2;97;40m:\u001b[0m\u001b[2;97;40m \u001b[0m\u001b[2;40mval/accuracy                                                                       \u001b[0m\n",
            "\u001b[2m│   \u001b[0m\u001b[2m    \u001b[0m\u001b[2;91;40mmode\u001b[0m\u001b[2;97;40m:\u001b[0m\u001b[2;97;40m \u001b[0m\u001b[2;40mmax                                                                                   \u001b[0m\n",
            "\u001b[2m│   \u001b[0m\u001b[2m    \u001b[0m\u001b[2;91;40mema\u001b[0m\u001b[2;97;40m:\u001b[0m\u001b[2;97;40m \u001b[0m\u001b[2;40m0.0                                                                                    \u001b[0m\n",
            "\u001b[2m│   \u001b[0m\u001b[2m    \u001b[0m\u001b[2;91;40mtest\u001b[0m\u001b[2;97;40m:\u001b[0m\u001b[2;97;40m \u001b[0m\u001b[2;40mfalse                                                                                 \u001b[0m\n",
            "\u001b[2m│   \u001b[0m\u001b[2m    \u001b[0m\u001b[2;91;40mdebug\u001b[0m\u001b[2;97;40m:\u001b[0m\u001b[2;97;40m \u001b[0m\u001b[2;40mfalse                                                                                \u001b[0m\n",
            "\u001b[2m│   \u001b[0m\u001b[2m    \u001b[0m\u001b[2;91;40mignore_warnings\u001b[0m\u001b[2;97;40m:\u001b[0m\u001b[2;97;40m \u001b[0m\u001b[2;40mfalse                                                                      \u001b[0m\n",
            "\u001b[2m│   \u001b[0m\u001b[2m    \u001b[0m\u001b[2;91;40mstate\u001b[0m\u001b[2;97;40m:\u001b[0m\u001b[2;40m                                                                                      \u001b[0m\n",
            "\u001b[2m│   \u001b[0m\u001b[2m    \u001b[0m\u001b[2;97;40m  \u001b[0m\u001b[2;91;40mmode\u001b[0m\u001b[2;97;40m:\u001b[0m\u001b[2;97;40m \u001b[0m\u001b[2;40mnull                                                                                \u001b[0m\n",
            "\u001b[2m│   \u001b[0m\u001b[2m    \u001b[0m\u001b[2;97;40m  \u001b[0m\u001b[2;91;40mn_context\u001b[0m\u001b[2;97;40m:\u001b[0m\u001b[2;97;40m \u001b[0m\u001b[2;40m0                                                                              \u001b[0m\n",
            "\u001b[2m│   \u001b[0m\u001b[2m    \u001b[0m\u001b[2;97;40m  \u001b[0m\u001b[2;91;40mn_context_eval\u001b[0m\u001b[2;97;40m:\u001b[0m\u001b[2;97;40m \u001b[0m\u001b[2;40m0                                                                         \u001b[0m\n",
            "\u001b[2m│   \u001b[0m\u001b[2m    \u001b[0m\u001b[2;91;40mckpt\u001b[0m\u001b[2;97;40m:\u001b[0m\u001b[2;97;40m \u001b[0m\u001b[2;40mnull                                                                                  \u001b[0m\n",
            "\u001b[2m│   \u001b[0m\u001b[2m    \u001b[0m\u001b[2;91;40moptimizer_param_grouping\u001b[0m\u001b[2;97;40m:\u001b[0m\u001b[2;40m                                                                   \u001b[0m\n",
            "\u001b[2m│   \u001b[0m\u001b[2m    \u001b[0m\u001b[2;97;40m  \u001b[0m\u001b[2;91;40mbias_weight_decay\u001b[0m\u001b[2;97;40m:\u001b[0m\u001b[2;97;40m \u001b[0m\u001b[2;40mfalse                                                                  \u001b[0m\n",
            "\u001b[2m│   \u001b[0m\u001b[2m    \u001b[0m\u001b[2;97;40m  \u001b[0m\u001b[2;91;40mnormalization_weight_decay\u001b[0m\u001b[2;97;40m:\u001b[0m\u001b[2;97;40m \u001b[0m\u001b[2;40mfalse                                                         \u001b[0m\n",
            "\u001b[2m│   \u001b[0m\u001b[2m    \u001b[0m\u001b[2;91;40mdisable_dataset\u001b[0m\u001b[2;97;40m:\u001b[0m\u001b[2;97;40m \u001b[0m\u001b[2;40mfalse                                                                      \u001b[0m\n",
            "\u001b[2m│   \u001b[0m\u001b[2m    \u001b[0m\u001b[2;91;40mvalidate_at_start\u001b[0m\u001b[2;97;40m:\u001b[0m\u001b[2;97;40m \u001b[0m\u001b[2;40mfalse                                                                    \u001b[0m\n",
            "\u001b[2m│   \u001b[0m\u001b[2m    \u001b[0m\u001b[2;91;40mpretrained_model_path\u001b[0m\u001b[2;97;40m:\u001b[0m\u001b[2;97;40m \u001b[0m\u001b[2;40mnull                                                                 \u001b[0m\n",
            "\u001b[2m│   \u001b[0m\u001b[2m    \u001b[0m\u001b[2;91;40mpretrained_model_strict_load\u001b[0m\u001b[2;97;40m:\u001b[0m\u001b[2;97;40m \u001b[0m\u001b[2;40mtrue                                                          \u001b[0m\n",
            "\u001b[2m│   \u001b[0m\u001b[2m    \u001b[0m\u001b[2;91;40mpretrained_model_state_hook\u001b[0m\u001b[2;97;40m:\u001b[0m\u001b[2;40m                                                                \u001b[0m\n",
            "\u001b[2m│   \u001b[0m\u001b[2m    \u001b[0m\u001b[2;97;40m  \u001b[0m\u001b[2;91;40m_name_\u001b[0m\u001b[2;97;40m:\u001b[0m\u001b[2;97;40m \u001b[0m\u001b[2;40mnull                                                                              \u001b[0m\n",
            "\u001b[2m│   \u001b[0m\u001b[2m    \u001b[0m\u001b[2;91;40mpost_init_hook\u001b[0m\u001b[2;97;40m:\u001b[0m\u001b[2;40m                                                                             \u001b[0m\n",
            "\u001b[2m│   \u001b[0m\u001b[2m    \u001b[0m\u001b[2;97;40m  \u001b[0m\u001b[2;91;40m_name_\u001b[0m\u001b[2;97;40m:\u001b[0m\u001b[2;97;40m \u001b[0m\u001b[2;40mnull                                                                              \u001b[0m\n",
            "\u001b[2m│   \u001b[0m\u001b[2m    \u001b[0m\u001b[2;91;40mlayer_decay\u001b[0m\u001b[2;97;40m:\u001b[0m\u001b[2;40m                                                                                \u001b[0m\n",
            "\u001b[2m│   \u001b[0m\u001b[2m    \u001b[0m\u001b[2;97;40m  \u001b[0m\u001b[2;91;40m_name_\u001b[0m\u001b[2;97;40m:\u001b[0m\u001b[2;97;40m \u001b[0m\u001b[2;40mnull                                                                              \u001b[0m\n",
            "\u001b[2m│   \u001b[0m\u001b[2m    \u001b[0m\u001b[2;97;40m  \u001b[0m\u001b[2;91;40mdecay\u001b[0m\u001b[2;97;40m:\u001b[0m\u001b[2;97;40m \u001b[0m\u001b[2;40m0.7                                                                                \u001b[0m\n",
            "\u001b[2m│   \u001b[0m\u001b[2m    \u001b[0m\u001b[2;91;40mtrack_grad_norms\u001b[0m\u001b[2;97;40m:\u001b[0m\u001b[2;97;40m \u001b[0m\u001b[2;40mfalse                                                                     \u001b[0m\n",
            "\u001b[2m│   \u001b[0m\u001b[2m    \u001b[0m\u001b[2;40m                                                                                            \u001b[0m\n",
            "\u001b[2m├── \u001b[0m\u001b[2mtolerance\u001b[0m\n",
            "\u001b[2m│   \u001b[0m\u001b[2m└── \u001b[0m\u001b[2;91;40mlogdir\u001b[0m\u001b[2;97;40m:\u001b[0m\u001b[2;97;40m \u001b[0m\u001b[2;40m./resume                                                                            \u001b[0m\n",
            "\u001b[2m│   \u001b[0m\u001b[2m    \u001b[0m\u001b[2;91;40mid\u001b[0m\u001b[2;97;40m:\u001b[0m\u001b[2;97;40m \u001b[0m\u001b[2;40mnull                                                                                    \u001b[0m\n",
            "\u001b[2m│   \u001b[0m\u001b[2m    \u001b[0m\u001b[2;40m                                                                                            \u001b[0m\n",
            "\u001b[2m├── \u001b[0m\u001b[2mwandb\u001b[0m\n",
            "\u001b[2m│   \u001b[0m\u001b[2m└── \u001b[0m\u001b[2;91;40mproject\u001b[0m\u001b[2;97;40m:\u001b[0m\u001b[2;97;40m \u001b[0m\u001b[2;40mhippo                                                                              \u001b[0m\n",
            "\u001b[2m│   \u001b[0m\u001b[2m    \u001b[0m\u001b[2;91;40mgroup\u001b[0m\u001b[2;97;40m:\u001b[0m\u001b[2;97;40m \u001b[0m\u001b[2;93;40m'\u001b[0m\u001b[2;93;40m'\u001b[0m\u001b[2;40m                                                                                   \u001b[0m\n",
            "\u001b[2m│   \u001b[0m\u001b[2m    \u001b[0m\u001b[2;91;40mjob_type\u001b[0m\u001b[2;97;40m:\u001b[0m\u001b[2;97;40m \u001b[0m\u001b[2;40mtraining                                                                          \u001b[0m\n",
            "\u001b[2m│   \u001b[0m\u001b[2m    \u001b[0m\u001b[2;91;40mmode\u001b[0m\u001b[2;97;40m:\u001b[0m\u001b[2;97;40m \u001b[0m\u001b[2;40monline                                                                                \u001b[0m\n",
            "\u001b[2m│   \u001b[0m\u001b[2m    \u001b[0m\u001b[2;91;40msave_dir\u001b[0m\u001b[2;97;40m:\u001b[0m\u001b[2;97;40m \u001b[0m\u001b[2;40m.                                                                                 \u001b[0m\n",
            "\u001b[2m│   \u001b[0m\u001b[2m    \u001b[0m\u001b[2;91;40mid\u001b[0m\u001b[2;97;40m:\u001b[0m\u001b[2;97;40m \u001b[0m\u001b[2;40mnull                                                                                    \u001b[0m\n",
            "\u001b[2m│   \u001b[0m\u001b[2m    \u001b[0m\u001b[2;40m                                                                                            \u001b[0m\n",
            "\u001b[2m├── \u001b[0m\u001b[2mtrainer\u001b[0m\n",
            "\u001b[2m│   \u001b[0m\u001b[2m└── \u001b[0m\u001b[2;91;40maccelerator\u001b[0m\u001b[2;97;40m:\u001b[0m\u001b[2;97;40m \u001b[0m\u001b[2;40mgpu                                                                            \u001b[0m\n",
            "\u001b[2m│   \u001b[0m\u001b[2m    \u001b[0m\u001b[2;91;40mstrategy\u001b[0m\u001b[2;97;40m:\u001b[0m\u001b[2;97;40m \u001b[0m\u001b[2;40mauto                                                                              \u001b[0m\n",
            "\u001b[2m│   \u001b[0m\u001b[2m    \u001b[0m\u001b[2;91;40mdevices\u001b[0m\u001b[2;97;40m:\u001b[0m\u001b[2;97;40m \u001b[0m\u001b[2;40m1                                                                                  \u001b[0m\n",
            "\u001b[2m│   \u001b[0m\u001b[2m    \u001b[0m\u001b[2;91;40maccumulate_grad_batches\u001b[0m\u001b[2;97;40m:\u001b[0m\u001b[2;97;40m \u001b[0m\u001b[2;40m1                                                                  \u001b[0m\n",
            "\u001b[2m│   \u001b[0m\u001b[2m    \u001b[0m\u001b[2;91;40mmax_epochs\u001b[0m\u001b[2;97;40m:\u001b[0m\u001b[2;97;40m \u001b[0m\u001b[2;40m200                                                                             \u001b[0m\n",
            "\u001b[2m│   \u001b[0m\u001b[2m    \u001b[0m\u001b[2;91;40mgradient_clip_val\u001b[0m\u001b[2;97;40m:\u001b[0m\u001b[2;97;40m \u001b[0m\u001b[2;40mnull                                                                     \u001b[0m\n",
            "\u001b[2m│   \u001b[0m\u001b[2m    \u001b[0m\u001b[2;91;40mlog_every_n_steps\u001b[0m\u001b[2;97;40m:\u001b[0m\u001b[2;97;40m \u001b[0m\u001b[2;40m10                                                                       \u001b[0m\n",
            "\u001b[2m│   \u001b[0m\u001b[2m    \u001b[0m\u001b[2;91;40mlimit_train_batches\u001b[0m\u001b[2;97;40m:\u001b[0m\u001b[2;97;40m \u001b[0m\u001b[2;40m1.0                                                                    \u001b[0m\n",
            "\u001b[2m│   \u001b[0m\u001b[2m    \u001b[0m\u001b[2;91;40mlimit_val_batches\u001b[0m\u001b[2;97;40m:\u001b[0m\u001b[2;97;40m \u001b[0m\u001b[2;40m1.0                                                                      \u001b[0m\n",
            "\u001b[2m│   \u001b[0m\u001b[2m    \u001b[0m\u001b[2;91;40menable_model_summary\u001b[0m\u001b[2;97;40m:\u001b[0m\u001b[2;97;40m \u001b[0m\u001b[2;40mfalse                                                                 \u001b[0m\n",
            "\u001b[2m│   \u001b[0m\u001b[2m    \u001b[0m\u001b[2;40m                                                                                            \u001b[0m\n",
            "\u001b[2m├── \u001b[0m\u001b[2mloader\u001b[0m\n",
            "\u001b[2m│   \u001b[0m\u001b[2m└── \u001b[0m\u001b[2;91;40mbatch_size\u001b[0m\u001b[2;97;40m:\u001b[0m\u001b[2;97;40m \u001b[0m\u001b[2;40m50                                                                              \u001b[0m\n",
            "\u001b[2m│   \u001b[0m\u001b[2m    \u001b[0m\u001b[2;91;40mnum_workers\u001b[0m\u001b[2;97;40m:\u001b[0m\u001b[2;97;40m \u001b[0m\u001b[2;40m4                                                                              \u001b[0m\n",
            "\u001b[2m│   \u001b[0m\u001b[2m    \u001b[0m\u001b[2;91;40mpin_memory\u001b[0m\u001b[2;97;40m:\u001b[0m\u001b[2;97;40m \u001b[0m\u001b[2;40mtrue                                                                            \u001b[0m\n",
            "\u001b[2m│   \u001b[0m\u001b[2m    \u001b[0m\u001b[2;91;40mdrop_last\u001b[0m\u001b[2;97;40m:\u001b[0m\u001b[2;97;40m \u001b[0m\u001b[2;40mtrue                                                                             \u001b[0m\n",
            "\u001b[2m│   \u001b[0m\u001b[2m    \u001b[0m\u001b[2;40m                                                                                            \u001b[0m\n",
            "\u001b[2m├── \u001b[0m\u001b[2mdataset\u001b[0m\n",
            "\u001b[2m│   \u001b[0m\u001b[2m└── \u001b[0m\u001b[2;91;40m_name_\u001b[0m\u001b[2;97;40m:\u001b[0m\u001b[2;97;40m \u001b[0m\u001b[2;40mimdb                                                                                \u001b[0m\n",
            "\u001b[2m│   \u001b[0m\u001b[2m    \u001b[0m\u001b[2;91;40ml_max\u001b[0m\u001b[2;97;40m:\u001b[0m\u001b[2;97;40m \u001b[0m\u001b[2;40m4096                                                                                 \u001b[0m\n",
            "\u001b[2m│   \u001b[0m\u001b[2m    \u001b[0m\u001b[2;91;40mlevel\u001b[0m\u001b[2;97;40m:\u001b[0m\u001b[2;97;40m \u001b[0m\u001b[2;40mchar                                                                                 \u001b[0m\n",
            "\u001b[2m│   \u001b[0m\u001b[2m    \u001b[0m\u001b[2;91;40mmin_freq\u001b[0m\u001b[2;97;40m:\u001b[0m\u001b[2;97;40m \u001b[0m\u001b[2;40m15                                                                                \u001b[0m\n",
            "\u001b[2m│   \u001b[0m\u001b[2m    \u001b[0m\u001b[2;91;40mseed\u001b[0m\u001b[2;97;40m:\u001b[0m\u001b[2;97;40m \u001b[0m\u001b[2;40m42                                                                                    \u001b[0m\n",
            "\u001b[2m│   \u001b[0m\u001b[2m    \u001b[0m\u001b[2;91;40mval_split\u001b[0m\u001b[2;97;40m:\u001b[0m\u001b[2;97;40m \u001b[0m\u001b[2;40m0.0                                                                              \u001b[0m\n",
            "\u001b[2m│   \u001b[0m\u001b[2m    \u001b[0m\u001b[2;91;40mappend_bos\u001b[0m\u001b[2;97;40m:\u001b[0m\u001b[2;97;40m \u001b[0m\u001b[2;40mfalse                                                                           \u001b[0m\n",
            "\u001b[2m│   \u001b[0m\u001b[2m    \u001b[0m\u001b[2;91;40mappend_eos\u001b[0m\u001b[2;97;40m:\u001b[0m\u001b[2;97;40m \u001b[0m\u001b[2;40mtrue                                                                            \u001b[0m\n",
            "\u001b[2m│   \u001b[0m\u001b[2m    \u001b[0m\u001b[2;91;40mmax_vocab\u001b[0m\u001b[2;97;40m:\u001b[0m\u001b[2;97;40m \u001b[0m\u001b[2;40m135                                                                              \u001b[0m\n",
            "\u001b[2m│   \u001b[0m\u001b[2m    \u001b[0m\u001b[2;40m                                                                                            \u001b[0m\n",
            "\u001b[2m├── \u001b[0m\u001b[2mtask\u001b[0m\n",
            "\u001b[2m│   \u001b[0m\u001b[2m└── \u001b[0m\u001b[2;91;40m_name_\u001b[0m\u001b[2;97;40m:\u001b[0m\u001b[2;97;40m \u001b[0m\u001b[2;40mbase                                                                                \u001b[0m\n",
            "\u001b[2m│   \u001b[0m\u001b[2m    \u001b[0m\u001b[2;91;40mloss\u001b[0m\u001b[2;97;40m:\u001b[0m\u001b[2;97;40m \u001b[0m\u001b[2;40mcross_entropy                                                                         \u001b[0m\n",
            "\u001b[2m│   \u001b[0m\u001b[2m    \u001b[0m\u001b[2;91;40mmetrics\u001b[0m\u001b[2;97;40m:\u001b[0m\u001b[2;40m                                                                                    \u001b[0m\n",
            "\u001b[2m│   \u001b[0m\u001b[2m    \u001b[0m\u001b[2;40m-\u001b[0m\u001b[2;97;40m \u001b[0m\u001b[2;40maccuracy                                                                                  \u001b[0m\n",
            "\u001b[2m│   \u001b[0m\u001b[2m    \u001b[0m\u001b[2;91;40mtorchmetrics\u001b[0m\u001b[2;97;40m:\u001b[0m\u001b[2;97;40m \u001b[0m\u001b[2;40mnull                                                                          \u001b[0m\n",
            "\u001b[2m│   \u001b[0m\u001b[2m    \u001b[0m\u001b[2;40m                                                                                            \u001b[0m\n",
            "\u001b[2m├── \u001b[0m\u001b[2moptimizer\u001b[0m\n",
            "\u001b[2m│   \u001b[0m\u001b[2m└── \u001b[0m\u001b[2;91;40m_name_\u001b[0m\u001b[2;97;40m:\u001b[0m\u001b[2;97;40m \u001b[0m\u001b[2;40madamw                                                                               \u001b[0m\n",
            "\u001b[2m│   \u001b[0m\u001b[2m    \u001b[0m\u001b[2;91;40mlr\u001b[0m\u001b[2;97;40m:\u001b[0m\u001b[2;97;40m \u001b[0m\u001b[2;40m0.001                                                                                   \u001b[0m\n",
            "\u001b[2m│   \u001b[0m\u001b[2m    \u001b[0m\u001b[2;91;40mweight_decay\u001b[0m\u001b[2;97;40m:\u001b[0m\u001b[2;97;40m \u001b[0m\u001b[2;40m0.0                                                                           \u001b[0m\n",
            "\u001b[2m│   \u001b[0m\u001b[2m    \u001b[0m\u001b[2;91;40mbetas\u001b[0m\u001b[2;97;40m:\u001b[0m\u001b[2;40m                                                                                      \u001b[0m\n",
            "\u001b[2m│   \u001b[0m\u001b[2m    \u001b[0m\u001b[2;40m-\u001b[0m\u001b[2;97;40m \u001b[0m\u001b[2;40m0.9                                                                                       \u001b[0m\n",
            "\u001b[2m│   \u001b[0m\u001b[2m    \u001b[0m\u001b[2;40m-\u001b[0m\u001b[2;97;40m \u001b[0m\u001b[2;40m0.999                                                                                     \u001b[0m\n",
            "\u001b[2m│   \u001b[0m\u001b[2m    \u001b[0m\u001b[2;40m                                                                                            \u001b[0m\n",
            "\u001b[2m├── \u001b[0m\u001b[2mscheduler\u001b[0m\n",
            "\u001b[2m│   \u001b[0m\u001b[2m└── \u001b[0m\u001b[2;91;40m_name_\u001b[0m\u001b[2;97;40m:\u001b[0m\u001b[2;97;40m \u001b[0m\u001b[2;40mplateau                                                                             \u001b[0m\n",
            "\u001b[2m│   \u001b[0m\u001b[2m    \u001b[0m\u001b[2;91;40mmode\u001b[0m\u001b[2;97;40m:\u001b[0m\u001b[2;97;40m \u001b[0m\u001b[2;40mmax                                                                                   \u001b[0m\n",
            "\u001b[2m│   \u001b[0m\u001b[2m    \u001b[0m\u001b[2;91;40mfactor\u001b[0m\u001b[2;97;40m:\u001b[0m\u001b[2;97;40m \u001b[0m\u001b[2;40m0.2                                                                                 \u001b[0m\n",
            "\u001b[2m│   \u001b[0m\u001b[2m    \u001b[0m\u001b[2;91;40mpatience\u001b[0m\u001b[2;97;40m:\u001b[0m\u001b[2;97;40m \u001b[0m\u001b[2;40m20                                                                                \u001b[0m\n",
            "\u001b[2m│   \u001b[0m\u001b[2m    \u001b[0m\u001b[2;91;40mmin_lr\u001b[0m\u001b[2;97;40m:\u001b[0m\u001b[2;97;40m \u001b[0m\u001b[2;40m0.0                                                                                 \u001b[0m\n",
            "\u001b[2m│   \u001b[0m\u001b[2m    \u001b[0m\u001b[2;40m                                                                                            \u001b[0m\n",
            "\u001b[2m├── \u001b[0m\u001b[2mencoder\u001b[0m\n",
            "\u001b[2m│   \u001b[0m\u001b[2m└── \u001b[0m\u001b[2;40membedding                                                                                   \u001b[0m\n",
            "\u001b[2m├── \u001b[0m\u001b[2mdecoder\u001b[0m\n",
            "\u001b[2m│   \u001b[0m\u001b[2m└── \u001b[0m\u001b[2;91;40m_name_\u001b[0m\u001b[2;97;40m:\u001b[0m\u001b[2;97;40m \u001b[0m\u001b[2;40msequence                                                                            \u001b[0m\n",
            "\u001b[2m│   \u001b[0m\u001b[2m    \u001b[0m\u001b[2;91;40mmode\u001b[0m\u001b[2;97;40m:\u001b[0m\u001b[2;97;40m \u001b[0m\u001b[2;40mlast                                                                                  \u001b[0m\n",
            "\u001b[2m│   \u001b[0m\u001b[2m    \u001b[0m\u001b[2;91;40muse_lengths\u001b[0m\u001b[2;97;40m:\u001b[0m\u001b[2;97;40m \u001b[0m\u001b[2;40mtrue                                                                           \u001b[0m\n",
            "\u001b[2m│   \u001b[0m\u001b[2m    \u001b[0m\u001b[2;40m                                                                                            \u001b[0m\n",
            "\u001b[2m├── \u001b[0m\u001b[2mmodel\u001b[0m\n",
            "\u001b[2m│   \u001b[0m\u001b[2m└── \u001b[0m\u001b[2;91;40mlayer\u001b[0m\u001b[2;97;40m:\u001b[0m\u001b[2;40m                                                                                      \u001b[0m\n",
            "\u001b[2m│   \u001b[0m\u001b[2m    \u001b[0m\u001b[2;97;40m  \u001b[0m\u001b[2;91;40m_name_\u001b[0m\u001b[2;97;40m:\u001b[0m\u001b[2;97;40m \u001b[0m\u001b[2;40ms4                                                                                \u001b[0m\n",
            "\u001b[2m│   \u001b[0m\u001b[2m    \u001b[0m\u001b[2;97;40m  \u001b[0m\u001b[2;91;40md_state\u001b[0m\u001b[2;97;40m:\u001b[0m\u001b[2;97;40m \u001b[0m\u001b[2;40m64                                                                               \u001b[0m\n",
            "\u001b[2m│   \u001b[0m\u001b[2m    \u001b[0m\u001b[2;97;40m  \u001b[0m\u001b[2;91;40mchannels\u001b[0m\u001b[2;97;40m:\u001b[0m\u001b[2;97;40m \u001b[0m\u001b[2;40m1                                                                               \u001b[0m\n",
            "\u001b[2m│   \u001b[0m\u001b[2m    \u001b[0m\u001b[2;97;40m  \u001b[0m\u001b[2;91;40mbidirectional\u001b[0m\u001b[2;97;40m:\u001b[0m\u001b[2;97;40m \u001b[0m\u001b[2;40mfalse                                                                      \u001b[0m\n",
            "\u001b[2m│   \u001b[0m\u001b[2m    \u001b[0m\u001b[2;97;40m  \u001b[0m\u001b[2;91;40mgate\u001b[0m\u001b[2;97;40m:\u001b[0m\u001b[2;97;40m \u001b[0m\u001b[2;40mnull                                                                                \u001b[0m\n",
            "\u001b[2m│   \u001b[0m\u001b[2m    \u001b[0m\u001b[2;97;40m  \u001b[0m\u001b[2;91;40mgate_act\u001b[0m\u001b[2;97;40m:\u001b[0m\u001b[2;97;40m \u001b[0m\u001b[2;40mid                                                                              \u001b[0m\n",
            "\u001b[2m│   \u001b[0m\u001b[2m    \u001b[0m\u001b[2;97;40m  \u001b[0m\u001b[2;91;40mbottleneck\u001b[0m\u001b[2;97;40m:\u001b[0m\u001b[2;97;40m \u001b[0m\u001b[2;40mnull                                                                          \u001b[0m\n",
            "\u001b[2m│   \u001b[0m\u001b[2m    \u001b[0m\u001b[2;97;40m  \u001b[0m\u001b[2;91;40mactivation\u001b[0m\u001b[2;97;40m:\u001b[0m\u001b[2;97;40m \u001b[0m\u001b[2;40mgelu                                                                          \u001b[0m\n",
            "\u001b[2m│   \u001b[0m\u001b[2m    \u001b[0m\u001b[2;97;40m  \u001b[0m\u001b[2;91;40mmult_act\u001b[0m\u001b[2;97;40m:\u001b[0m\u001b[2;97;40m \u001b[0m\u001b[2;40mnull                                                                            \u001b[0m\n",
            "\u001b[2m│   \u001b[0m\u001b[2m    \u001b[0m\u001b[2;97;40m  \u001b[0m\u001b[2;91;40mfinal_act\u001b[0m\u001b[2;97;40m:\u001b[0m\u001b[2;97;40m \u001b[0m\u001b[2;40mglu                                                                            \u001b[0m\n",
            "\u001b[2m│   \u001b[0m\u001b[2m    \u001b[0m\u001b[2;97;40m  \u001b[0m\u001b[2;91;40mpostact\u001b[0m\u001b[2;97;40m:\u001b[0m\u001b[2;97;40m \u001b[0m\u001b[2;40mnull                                                                             \u001b[0m\n",
            "\u001b[2m│   \u001b[0m\u001b[2m    \u001b[0m\u001b[2;97;40m  \u001b[0m\u001b[2;91;40minitializer\u001b[0m\u001b[2;97;40m:\u001b[0m\u001b[2;97;40m \u001b[0m\u001b[2;40mnull                                                                         \u001b[0m\n",
            "\u001b[2m│   \u001b[0m\u001b[2m    \u001b[0m\u001b[2;97;40m  \u001b[0m\u001b[2;91;40mweight_norm\u001b[0m\u001b[2;97;40m:\u001b[0m\u001b[2;97;40m \u001b[0m\u001b[2;40mfalse                                                                        \u001b[0m\n",
            "\u001b[2m│   \u001b[0m\u001b[2m    \u001b[0m\u001b[2;97;40m  \u001b[0m\u001b[2;91;40mtie_dropout\u001b[0m\u001b[2;97;40m:\u001b[0m\u001b[2;97;40m \u001b[0m\u001b[2;40mtrue                                                                         \u001b[0m\n",
            "\u001b[2m│   \u001b[0m\u001b[2m    \u001b[0m\u001b[2;97;40m  \u001b[0m\u001b[2;91;40mlayer\u001b[0m\u001b[2;97;40m:\u001b[0m\u001b[2;97;40m \u001b[0m\u001b[2;40mfftconv                                                                            \u001b[0m\n",
            "\u001b[2m│   \u001b[0m\u001b[2m    \u001b[0m\u001b[2;97;40m  \u001b[0m\u001b[2;91;40mmode\u001b[0m\u001b[2;97;40m:\u001b[0m\u001b[2;97;40m \u001b[0m\u001b[2;40mnplr                                                                                \u001b[0m\n",
            "\u001b[2m│   \u001b[0m\u001b[2m    \u001b[0m\u001b[2;97;40m  \u001b[0m\u001b[2;91;40minit\u001b[0m\u001b[2;97;40m:\u001b[0m\u001b[2;97;40m \u001b[0m\u001b[2;40mlegs                                                                                \u001b[0m\n",
            "\u001b[2m│   \u001b[0m\u001b[2m    \u001b[0m\u001b[2;97;40m  \u001b[0m\u001b[2;91;40mmeasure\u001b[0m\u001b[2;97;40m:\u001b[0m\u001b[2;97;40m \u001b[0m\u001b[2;40mnull                                                                             \u001b[0m\n",
            "\u001b[2m│   \u001b[0m\u001b[2m    \u001b[0m\u001b[2;97;40m  \u001b[0m\u001b[2;91;40mrank\u001b[0m\u001b[2;97;40m:\u001b[0m\u001b[2;97;40m \u001b[0m\u001b[2;40m1                                                                                   \u001b[0m\n",
            "\u001b[2m│   \u001b[0m\u001b[2m    \u001b[0m\u001b[2;97;40m  \u001b[0m\u001b[2;91;40mdt_min\u001b[0m\u001b[2;97;40m:\u001b[0m\u001b[2;97;40m \u001b[0m\u001b[2;40m0.001                                                                             \u001b[0m\n",
            "\u001b[2m│   \u001b[0m\u001b[2m    \u001b[0m\u001b[2;97;40m  \u001b[0m\u001b[2;91;40mdt_max\u001b[0m\u001b[2;97;40m:\u001b[0m\u001b[2;97;40m \u001b[0m\u001b[2;40m0.1                                                                               \u001b[0m\n",
            "\u001b[2m│   \u001b[0m\u001b[2m    \u001b[0m\u001b[2;97;40m  \u001b[0m\u001b[2;91;40mdt_transform\u001b[0m\u001b[2;97;40m:\u001b[0m\u001b[2;97;40m \u001b[0m\u001b[2;40msoftplus                                                                    \u001b[0m\n",
            "\u001b[2m│   \u001b[0m\u001b[2m    \u001b[0m\u001b[2;97;40m  \u001b[0m\u001b[2;91;40mlr\u001b[0m\u001b[2;97;40m:\u001b[0m\u001b[2;40m                                                                                       \u001b[0m\n",
            "\u001b[2m│   \u001b[0m\u001b[2m    \u001b[0m\u001b[2;97;40m    \u001b[0m\u001b[2;91;40mdt\u001b[0m\u001b[2;97;40m:\u001b[0m\u001b[2;97;40m \u001b[0m\u001b[2;40m0.001                                                                               \u001b[0m\n",
            "\u001b[2m│   \u001b[0m\u001b[2m    \u001b[0m\u001b[2;97;40m    \u001b[0m\u001b[2;91;40mA\u001b[0m\u001b[2;97;40m:\u001b[0m\u001b[2;97;40m \u001b[0m\u001b[2;40m0.001                                                                                \u001b[0m\n",
            "\u001b[2m│   \u001b[0m\u001b[2m    \u001b[0m\u001b[2;97;40m    \u001b[0m\u001b[2;91;40mB\u001b[0m\u001b[2;97;40m:\u001b[0m\u001b[2;97;40m \u001b[0m\u001b[2;40m0.001                                                                                \u001b[0m\n",
            "\u001b[2m│   \u001b[0m\u001b[2m    \u001b[0m\u001b[2;97;40m  \u001b[0m\u001b[2;91;40mwd\u001b[0m\u001b[2;97;40m:\u001b[0m\u001b[2;97;40m \u001b[0m\u001b[2;40m0.0                                                                                   \u001b[0m\n",
            "\u001b[2m│   \u001b[0m\u001b[2m    \u001b[0m\u001b[2;97;40m  \u001b[0m\u001b[2;91;40mn_ssm\u001b[0m\u001b[2;97;40m:\u001b[0m\u001b[2;97;40m \u001b[0m\u001b[2;40m1                                                                                  \u001b[0m\n",
            "\u001b[2m│   \u001b[0m\u001b[2m    \u001b[0m\u001b[2;97;40m  \u001b[0m\u001b[2;91;40mdrop_kernel\u001b[0m\u001b[2;97;40m:\u001b[0m\u001b[2;97;40m \u001b[0m\u001b[2;40m0.0                                                                          \u001b[0m\n",
            "\u001b[2m│   \u001b[0m\u001b[2m    \u001b[0m\u001b[2;97;40m  \u001b[0m\u001b[2;91;40mdeterministic\u001b[0m\u001b[2;97;40m:\u001b[0m\u001b[2;97;40m \u001b[0m\u001b[2;40mfalse                                                                      \u001b[0m\n",
            "\u001b[2m│   \u001b[0m\u001b[2m    \u001b[0m\u001b[2;97;40m  \u001b[0m\u001b[2;91;40ml_max\u001b[0m\u001b[2;97;40m:\u001b[0m\u001b[2;97;40m \u001b[0m\u001b[2;40m4096                                                                               \u001b[0m\n",
            "\u001b[2m│   \u001b[0m\u001b[2m    \u001b[0m\u001b[2;97;40m  \u001b[0m\u001b[2;91;40mverbose\u001b[0m\u001b[2;97;40m:\u001b[0m\u001b[2;97;40m \u001b[0m\u001b[2;40mtrue                                                                             \u001b[0m\n",
            "\u001b[2m│   \u001b[0m\u001b[2m    \u001b[0m\u001b[2;91;40m_name_\u001b[0m\u001b[2;97;40m:\u001b[0m\u001b[2;97;40m \u001b[0m\u001b[2;40mmodel                                                                               \u001b[0m\n",
            "\u001b[2m│   \u001b[0m\u001b[2m    \u001b[0m\u001b[2;91;40mprenorm\u001b[0m\u001b[2;97;40m:\u001b[0m\u001b[2;97;40m \u001b[0m\u001b[2;40mtrue                                                                               \u001b[0m\n",
            "\u001b[2m│   \u001b[0m\u001b[2m    \u001b[0m\u001b[2;91;40mtransposed\u001b[0m\u001b[2;97;40m:\u001b[0m\u001b[2;97;40m \u001b[0m\u001b[2;40mfalse                                                                           \u001b[0m\n",
            "\u001b[2m│   \u001b[0m\u001b[2m    \u001b[0m\u001b[2;91;40mn_layers\u001b[0m\u001b[2;97;40m:\u001b[0m\u001b[2;97;40m \u001b[0m\u001b[2;40m4                                                                                 \u001b[0m\n",
            "\u001b[2m│   \u001b[0m\u001b[2m    \u001b[0m\u001b[2;91;40md_model\u001b[0m\u001b[2;97;40m:\u001b[0m\u001b[2;97;40m \u001b[0m\u001b[2;40m256                                                                                \u001b[0m\n",
            "\u001b[2m│   \u001b[0m\u001b[2m    \u001b[0m\u001b[2;91;40mbidirectional\u001b[0m\u001b[2;97;40m:\u001b[0m\u001b[2;97;40m \u001b[0m\u001b[2;40mfalse                                                                        \u001b[0m\n",
            "\u001b[2m│   \u001b[0m\u001b[2m    \u001b[0m\u001b[2;91;40mresidual\u001b[0m\u001b[2;97;40m:\u001b[0m\u001b[2;97;40m \u001b[0m\u001b[2;40mR                                                                                 \u001b[0m\n",
            "\u001b[2m│   \u001b[0m\u001b[2m    \u001b[0m\u001b[2;91;40mpool\u001b[0m\u001b[2;97;40m:\u001b[0m\u001b[2;40m                                                                                       \u001b[0m\n",
            "\u001b[2m│   \u001b[0m\u001b[2m    \u001b[0m\u001b[2;97;40m  \u001b[0m\u001b[2;91;40m_name_\u001b[0m\u001b[2;97;40m:\u001b[0m\u001b[2;97;40m \u001b[0m\u001b[2;40mpool                                                                              \u001b[0m\n",
            "\u001b[2m│   \u001b[0m\u001b[2m    \u001b[0m\u001b[2;97;40m  \u001b[0m\u001b[2;91;40mstride\u001b[0m\u001b[2;97;40m:\u001b[0m\u001b[2;97;40m \u001b[0m\u001b[2;40m1                                                                                 \u001b[0m\n",
            "\u001b[2m│   \u001b[0m\u001b[2m    \u001b[0m\u001b[2;97;40m  \u001b[0m\u001b[2;91;40mexpand\u001b[0m\u001b[2;97;40m:\u001b[0m\u001b[2;97;40m \u001b[0m\u001b[2;40mnull                                                                              \u001b[0m\n",
            "\u001b[2m│   \u001b[0m\u001b[2m    \u001b[0m\u001b[2;91;40mnorm\u001b[0m\u001b[2;97;40m:\u001b[0m\u001b[2;97;40m \u001b[0m\u001b[2;40mlayer                                                                                 \u001b[0m\n",
            "\u001b[2m│   \u001b[0m\u001b[2m    \u001b[0m\u001b[2;91;40mdropout\u001b[0m\u001b[2;97;40m:\u001b[0m\u001b[2;97;40m \u001b[0m\u001b[2;40m0.0                                                                                \u001b[0m\n",
            "\u001b[2m│   \u001b[0m\u001b[2m    \u001b[0m\u001b[2;91;40mtie_dropout\u001b[0m\u001b[2;97;40m:\u001b[0m\u001b[2;97;40m \u001b[0m\u001b[2;40mtrue                                                                           \u001b[0m\n",
            "\u001b[2m│   \u001b[0m\u001b[2m    \u001b[0m\u001b[2;91;40mtrack_norms\u001b[0m\u001b[2;97;40m:\u001b[0m\u001b[2;97;40m \u001b[0m\u001b[2;40mtrue                                                                           \u001b[0m\n",
            "\u001b[2m│   \u001b[0m\u001b[2m    \u001b[0m\u001b[2;91;40mencoder\u001b[0m\u001b[2;97;40m:\u001b[0m\u001b[2;97;40m \u001b[0m\u001b[2;40mnull                                                                               \u001b[0m\n",
            "\u001b[2m│   \u001b[0m\u001b[2m    \u001b[0m\u001b[2;91;40mdecoder\u001b[0m\u001b[2;97;40m:\u001b[0m\u001b[2;97;40m \u001b[0m\u001b[2;40mnull                                                                               \u001b[0m\n",
            "\u001b[2m│   \u001b[0m\u001b[2m    \u001b[0m\u001b[2;40m                                                                                            \u001b[0m\n",
            "\u001b[2m└── \u001b[0m\u001b[2mcallbacks\u001b[0m\n",
            "\u001b[2m    \u001b[0m\u001b[2m└── \u001b[0m\u001b[2;91;40mlearning_rate_monitor\u001b[0m\u001b[2;97;40m:\u001b[0m\u001b[2;40m                                                                      \u001b[0m\n",
            "\u001b[2m    \u001b[0m\u001b[2m    \u001b[0m\u001b[2;97;40m  \u001b[0m\u001b[2;91;40mlogging_interval\u001b[0m\u001b[2;97;40m:\u001b[0m\u001b[2;97;40m \u001b[0m\u001b[2;40mepoch                                                                   \u001b[0m\n",
            "\u001b[2m    \u001b[0m\u001b[2m    \u001b[0m\u001b[2;91;40mtimer\u001b[0m\u001b[2;97;40m:\u001b[0m\u001b[2;40m                                                                                      \u001b[0m\n",
            "\u001b[2m    \u001b[0m\u001b[2m    \u001b[0m\u001b[2;97;40m  \u001b[0m\u001b[2;91;40mstep\u001b[0m\u001b[2;97;40m:\u001b[0m\u001b[2;97;40m \u001b[0m\u001b[2;40mtrue                                                                                \u001b[0m\n",
            "\u001b[2m    \u001b[0m\u001b[2m    \u001b[0m\u001b[2;97;40m  \u001b[0m\u001b[2;91;40minter_step\u001b[0m\u001b[2;97;40m:\u001b[0m\u001b[2;97;40m \u001b[0m\u001b[2;40mfalse                                                                         \u001b[0m\n",
            "\u001b[2m    \u001b[0m\u001b[2m    \u001b[0m\u001b[2;97;40m  \u001b[0m\u001b[2;91;40mepoch\u001b[0m\u001b[2;97;40m:\u001b[0m\u001b[2;97;40m \u001b[0m\u001b[2;40mtrue                                                                               \u001b[0m\n",
            "\u001b[2m    \u001b[0m\u001b[2m    \u001b[0m\u001b[2;97;40m  \u001b[0m\u001b[2;91;40mval\u001b[0m\u001b[2;97;40m:\u001b[0m\u001b[2;97;40m \u001b[0m\u001b[2;40mtrue                                                                                 \u001b[0m\n",
            "\u001b[2m    \u001b[0m\u001b[2m    \u001b[0m\u001b[2;91;40mparams\u001b[0m\u001b[2;97;40m:\u001b[0m\u001b[2;40m                                                                                     \u001b[0m\n",
            "\u001b[2m    \u001b[0m\u001b[2m    \u001b[0m\u001b[2;97;40m  \u001b[0m\u001b[2;91;40mtotal\u001b[0m\u001b[2;97;40m:\u001b[0m\u001b[2;97;40m \u001b[0m\u001b[2;40mtrue                                                                               \u001b[0m\n",
            "\u001b[2m    \u001b[0m\u001b[2m    \u001b[0m\u001b[2;97;40m  \u001b[0m\u001b[2;91;40mtrainable\u001b[0m\u001b[2;97;40m:\u001b[0m\u001b[2;97;40m \u001b[0m\u001b[2;40mtrue                                                                           \u001b[0m\n",
            "\u001b[2m    \u001b[0m\u001b[2m    \u001b[0m\u001b[2;97;40m  \u001b[0m\u001b[2;91;40mfixed\u001b[0m\u001b[2;97;40m:\u001b[0m\u001b[2;97;40m \u001b[0m\u001b[2;40mtrue                                                                               \u001b[0m\n",
            "\u001b[2m    \u001b[0m\u001b[2m    \u001b[0m\u001b[2;91;40mmodel_checkpoint\u001b[0m\u001b[2;97;40m:\u001b[0m\u001b[2;40m                                                                           \u001b[0m\n",
            "\u001b[2m    \u001b[0m\u001b[2m    \u001b[0m\u001b[2;97;40m  \u001b[0m\u001b[2;91;40mmonitor\u001b[0m\u001b[2;97;40m:\u001b[0m\u001b[2;97;40m \u001b[0m\u001b[2;40mval/accuracy                                                                     \u001b[0m\n",
            "\u001b[2m    \u001b[0m\u001b[2m    \u001b[0m\u001b[2;97;40m  \u001b[0m\u001b[2;91;40mmode\u001b[0m\u001b[2;97;40m:\u001b[0m\u001b[2;97;40m \u001b[0m\u001b[2;40mmax                                                                                 \u001b[0m\n",
            "\u001b[2m    \u001b[0m\u001b[2m    \u001b[0m\u001b[2;97;40m  \u001b[0m\u001b[2;91;40msave_top_k\u001b[0m\u001b[2;97;40m:\u001b[0m\u001b[2;97;40m \u001b[0m\u001b[2;40m1                                                                             \u001b[0m\n",
            "\u001b[2m    \u001b[0m\u001b[2m    \u001b[0m\u001b[2;97;40m  \u001b[0m\u001b[2;91;40msave_last\u001b[0m\u001b[2;97;40m:\u001b[0m\u001b[2;97;40m \u001b[0m\u001b[2;40mtrue                                                                           \u001b[0m\n",
            "\u001b[2m    \u001b[0m\u001b[2m    \u001b[0m\u001b[2;97;40m  \u001b[0m\u001b[2;91;40mdirpath\u001b[0m\u001b[2;97;40m:\u001b[0m\u001b[2;97;40m \u001b[0m\u001b[2;40mcheckpoints/                                                                     \u001b[0m\n",
            "\u001b[2m    \u001b[0m\u001b[2m    \u001b[0m\u001b[2;97;40m  \u001b[0m\u001b[2;91;40mfilename\u001b[0m\u001b[2;97;40m:\u001b[0m\u001b[2;97;40m \u001b[0m\u001b[2;40mval/accuracy                                                                    \u001b[0m\n",
            "\u001b[2m    \u001b[0m\u001b[2m    \u001b[0m\u001b[2;97;40m  \u001b[0m\u001b[2;91;40mauto_insert_metric_name\u001b[0m\u001b[2;97;40m:\u001b[0m\u001b[2;97;40m \u001b[0m\u001b[2;40mfalse                                                            \u001b[0m\n",
            "\u001b[2m    \u001b[0m\u001b[2m    \u001b[0m\u001b[2;97;40m  \u001b[0m\u001b[2;91;40mverbose\u001b[0m\u001b[2;97;40m:\u001b[0m\u001b[2;97;40m \u001b[0m\u001b[2;40mtrue                                                                             \u001b[0m\n",
            "\u001b[2m    \u001b[0m\u001b[2m    \u001b[0m\u001b[2;91;40mrich_model_summary\u001b[0m\u001b[2;97;40m:\u001b[0m\u001b[2;40m                                                                         \u001b[0m\n",
            "\u001b[2m    \u001b[0m\u001b[2m    \u001b[0m\u001b[2;97;40m  \u001b[0m\u001b[2;91;40mmax_depth\u001b[0m\u001b[2;97;40m:\u001b[0m\u001b[2;97;40m \u001b[0m\u001b[2;40m1                                                                              \u001b[0m\n",
            "\u001b[2m    \u001b[0m\u001b[2m    \u001b[0m\u001b[2;91;40mrich_progress_bar\u001b[0m\u001b[2;97;40m:\u001b[0m\u001b[2;40m                                                                          \u001b[0m\n",
            "\u001b[2m    \u001b[0m\u001b[2m    \u001b[0m\u001b[2;97;40m  \u001b[0m\u001b[2;91;40mrefresh_rate\u001b[0m\u001b[2;97;40m:\u001b[0m\u001b[2;97;40m \u001b[0m\u001b[2;40m1                                                                           \u001b[0m\n",
            "\u001b[2m    \u001b[0m\u001b[2m    \u001b[0m\u001b[2;97;40m  \u001b[0m\u001b[2;91;40mleave\u001b[0m\u001b[2;97;40m:\u001b[0m\u001b[2;97;40m \u001b[0m\u001b[2;40mtrue                                                                               \u001b[0m\n",
            "\u001b[2m    \u001b[0m\u001b[2m    \u001b[0m\u001b[2;40m                                                                                            \u001b[0m\n",
            "Seed set to 0\n",
            "[2025-02-07 10:53:57,130][__main__][INFO] - Instantiating callback <pytorch_lightning.callbacks.LearningRateMonitor>\n",
            "[2025-02-07 10:53:57,130][__main__][INFO] - Instantiating callback <src.callbacks.timer.Timer>\n",
            "[2025-02-07 10:53:57,132][__main__][INFO] - Instantiating callback <src.callbacks.params.ParamsLog>\n",
            "[2025-02-07 10:53:57,133][__main__][INFO] - Instantiating callback <pytorch_lightning.callbacks.ModelCheckpoint>\n",
            "[2025-02-07 10:53:57,155][__main__][INFO] - Instantiating callback <pytorch_lightning.callbacks.RichModelSummary>\n",
            "[2025-02-07 10:53:57,156][__main__][INFO] - Instantiating callback <pytorch_lightning.callbacks.RichProgressBar>\n",
            "GPU available: True (cuda), used: True\n",
            "TPU available: False, using: 0 TPU cores\n",
            "HPU available: False, using: 0 HPUs\n",
            "`Trainer(limit_train_batches=1.0)` was configured so 100% of the batches per epoch will be used..\n",
            "`Trainer(limit_val_batches=1.0)` was configured so 100% of the batches will be used..\n",
            "README.md: 100% 7.81k/7.81k [00:00<00:00, 36.3MB/s]\n",
            "train-00000-of-00001.parquet: 100% 21.0M/21.0M [00:00<00:00, 163MB/s]\n",
            "test-00000-of-00001.parquet: 100% 20.5M/20.5M [00:00<00:00, 204MB/s]\n",
            "unsupervised-00000-of-00001.parquet: 100% 42.0M/42.0M [00:00<00:00, 222MB/s]\n",
            "Generating train split: 100% 25000/25000 [00:00<00:00, 76568.46 examples/s]\n",
            "Generating test split: 100% 25000/25000 [00:00<00:00, 125704.42 examples/s]\n",
            "Generating unsupervised split: 100% 50000/50000 [00:00<00:00, 141143.66 examples/s]\n",
            "Map (num_proc=4): 100% 25000/25000 [00:06<00:00, 3818.08 examples/s]\n",
            "Map (num_proc=4): 100% 25000/25000 [00:08<00:00, 2801.96 examples/s]\n",
            "Map (num_proc=4): 100% 25000/25000 [00:48<00:00, 517.81 examples/s]\n",
            "Map (num_proc=4): 100% 25000/25000 [00:45<00:00, 552.43 examples/s]\n",
            "[2025-02-07 10:56:23,046][src.dataloaders.lra][INFO] - Saving to cache at /content/s4/data/imdb/cache/l_max-4096-level-char-min_freq-15-append_bos-False-append_eos-True\n",
            "Saving the dataset (1/1 shards): 100% 25000/25000 [00:00<00:00, 154040.38 examples/s]\n",
            "Saving the dataset (1/1 shards): 100% 25000/25000 [00:05<00:00, 4479.22 examples/s] \n",
            "IMDB char level | min_freq 15 | vocab size 134\n",
            "[2025-02-07 10:56:28,822][src.models.sequence.kernels.ssm][WARNING] - CUDA extension for structured kernels (Cauchy and Vandermonde multiplication) not found. Install by going to extensions/kernels/ and running `python setup.py install`, for improved speed and memory efficiency. Note that the kernel changed for state-spaces 4.0 and must be recompiled.\n",
            "[2025-02-07 10:56:28,822][src.models.sequence.kernels.ssm][WARNING] - Falling back on slow Cauchy and Vandermonde kernel. Install at least one of pykeops or the CUDA extension for better speed and memory efficiency.\n",
            "[2025-02-07 10:56:29,145][src.models.sequence.kernels.ssm][INFO] - Constructing S4 (H, N, L) = (256, 32, 4096)\n",
            "[2025-02-07 10:56:29,160][src.models.sequence.kernels.ssm][INFO] - Constructing S4 (H, N, L) = (256, 32, 4096)\n",
            "[2025-02-07 10:56:29,167][src.models.sequence.kernels.ssm][INFO] - Constructing S4 (H, N, L) = (256, 32, 4096)\n",
            "[2025-02-07 10:56:29,175][src.models.sequence.kernels.ssm][INFO] - Constructing S4 (H, N, L) = (256, 32, 4096)\n",
            "\u001b[34m\u001b[1mwandb\u001b[0m: Currently logged in as: \u001b[33mbarabbas\u001b[0m (\u001b[33mbarabbas-independent\u001b[0m) to \u001b[32mhttps://api.wandb.ai\u001b[0m. Use \u001b[1m`wandb login --relogin`\u001b[0m to force relogin\n",
            "\u001b[34m\u001b[1mwandb\u001b[0m: Using wandb-core as the SDK backend.  Please refer to https://wandb.me/wandb-core for more information.\n",
            "\u001b[34m\u001b[1mwandb\u001b[0m: Tracking run with wandb version 0.19.5\n",
            "\u001b[34m\u001b[1mwandb\u001b[0m: Run data is saved locally in \u001b[35m\u001b[1m./wandb/run-20250207_105629-hq0o16x8\u001b[0m\n",
            "\u001b[34m\u001b[1mwandb\u001b[0m: Run \u001b[1m`wandb offline`\u001b[0m to turn off syncing.\n",
            "\u001b[34m\u001b[1mwandb\u001b[0m: Syncing run \u001b[33mcurious-durian-4\u001b[0m\n",
            "\u001b[34m\u001b[1mwandb\u001b[0m: ⭐️ View project at \u001b[34m\u001b[4mhttps://wandb.ai/barabbas-independent/hippo\u001b[0m\n",
            "\u001b[34m\u001b[1mwandb\u001b[0m: 🚀 View run at \u001b[34m\u001b[4mhttps://wandb.ai/barabbas-independent/hippo/runs/hq0o16x8\u001b[0m\n",
            "[2025-02-07 10:56:31,161][src.dataloaders.lra][INFO] - Load from cache at /content/s4/data/imdb/cache/l_max-4096-level-char-min_freq-15-append_bos-False-append_eos-True\n",
            "IMDB char level | min_freq 15 | vocab size 134\n",
            "LOCAL_RANK: 0 - CUDA_VISIBLE_DEVICES: [0]\n",
            "Hyperparameter groups [{}, {'weight_decay': 0.0}, {'lr': 0.001, 'weight_decay': 0.0}]\n",
            "[2025-02-07 10:56:31,419][__main__][INFO] - Optimizer group 0 | 11 tensors | 560130 parameters | lr 0.001 | weight_decay 0.0\n",
            "[2025-02-07 10:56:31,420][__main__][INFO] - Optimizer group 1 | 4 tensors | 65536 parameters | lr 0.001 | weight_decay 0.0\n",
            "[2025-02-07 10:56:31,420][__main__][INFO] - Optimizer group 2 | 14 tensors | 4608 parameters | lr 0.001 | weight_decay 0.0\n",
            "[2025-02-07 10:56:31,420][__main__][INFO] - Optimizer group 3 | 20 tensors | 1792 parameters | lr 0.001 | weight_decay 0.0\n",
            "┏━━━┳━━━━━━━━━┳━━━━━━━━━━━━━━━━━┳━━━━━━━━┳━━━━━━━┓\n",
            "┃\u001b[1;35m \u001b[0m\u001b[1;35m \u001b[0m\u001b[1;35m \u001b[0m┃\u001b[1;35m \u001b[0m\u001b[1;35mName   \u001b[0m\u001b[1;35m \u001b[0m┃\u001b[1;35m \u001b[0m\u001b[1;35mType           \u001b[0m\u001b[1;35m \u001b[0m┃\u001b[1;35m \u001b[0m\u001b[1;35mParams\u001b[0m\u001b[1;35m \u001b[0m┃\u001b[1;35m \u001b[0m\u001b[1;35mMode \u001b[0m\u001b[1;35m \u001b[0m┃\n",
            "┡━━━╇━━━━━━━━━╇━━━━━━━━━━━━━━━━━╇━━━━━━━━╇━━━━━━━┩\n",
            "│\u001b[2m \u001b[0m\u001b[2m0\u001b[0m\u001b[2m \u001b[0m│ model   │ SequenceModel   │  597 K │ train │\n",
            "│\u001b[2m \u001b[0m\u001b[2m1\u001b[0m\u001b[2m \u001b[0m│ encoder │ Embedding       │ 34.3 K │ train │\n",
            "│\u001b[2m \u001b[0m\u001b[2m2\u001b[0m\u001b[2m \u001b[0m│ decoder │ SequenceDecoder │    514 │ train │\n",
            "└───┴─────────┴─────────────────┴────────┴───────┘\n",
            "\u001b[1mTrainable params\u001b[0m: 632 K                                                                             \n",
            "\u001b[1mNon-trainable params\u001b[0m: 0                                                                             \n",
            "\u001b[1mTotal params\u001b[0m: 632 K                                                                                 \n",
            "\u001b[1mTotal estimated model params size (MB)\u001b[0m: 2                                                           \n",
            "\u001b[1mModules in train mode\u001b[0m: 86                                                                           \n",
            "\u001b[1mModules in eval mode\u001b[0m: 0                                                                             \n",
            "\u001b[2K\n",
            "\u001b[?25hError executing job with overrides: ['pipeline=imdb', 'model=s4']\n",
            "Traceback (most recent call last):\n",
            "  File \"/usr/local/lib/python3.11/dist-packages/pytorch_lightning/trainer/connectors/data_connector.py\", line 386, in _check_dataloader_iterable\n",
            "    iter(dataloader)  # type: ignore[call-overload]\n",
            "    ^^^^^^^^^^^^^^^^\n",
            "TypeError: 'NoneType' object is not iterable\n",
            "\n",
            "During handling of the above exception, another exception occurred:\n",
            "\n",
            "Traceback (most recent call last):\n",
            "  File \"/content/s4/train.py\", line 828, in main\n",
            "    train(config)\n",
            "  File \"/content/s4/train.py\", line 734, in train\n",
            "    trainer.fit(model)\n",
            "  File \"/usr/local/lib/python3.11/dist-packages/pytorch_lightning/trainer/trainer.py\", line 539, in fit\n",
            "    call._call_and_handle_interrupt(\n",
            "  File \"/usr/local/lib/python3.11/dist-packages/pytorch_lightning/trainer/call.py\", line 47, in _call_and_handle_interrupt\n",
            "    return trainer_fn(*args, **kwargs)\n",
            "           ^^^^^^^^^^^^^^^^^^^^^^^^^^^\n",
            "  File \"/usr/local/lib/python3.11/dist-packages/pytorch_lightning/trainer/trainer.py\", line 575, in _fit_impl\n",
            "    self._run(model, ckpt_path=ckpt_path)\n",
            "  File \"/usr/local/lib/python3.11/dist-packages/pytorch_lightning/trainer/trainer.py\", line 982, in _run\n",
            "    results = self._run_stage()\n",
            "              ^^^^^^^^^^^^^^^^^\n",
            "  File \"/usr/local/lib/python3.11/dist-packages/pytorch_lightning/trainer/trainer.py\", line 1024, in _run_stage\n",
            "    self._run_sanity_check()\n",
            "  File \"/usr/local/lib/python3.11/dist-packages/pytorch_lightning/trainer/trainer.py\", line 1053, in _run_sanity_check\n",
            "    val_loop.run()\n",
            "  File \"/usr/local/lib/python3.11/dist-packages/pytorch_lightning/loops/utilities.py\", line 179, in _decorator\n",
            "    return loop_run(self, *args, **kwargs)\n",
            "           ^^^^^^^^^^^^^^^^^^^^^^^^^^^^^^^\n",
            "  File \"/usr/local/lib/python3.11/dist-packages/pytorch_lightning/loops/evaluation_loop.py\", line 119, in run\n",
            "    self.setup_data()\n",
            "  File \"/usr/local/lib/python3.11/dist-packages/pytorch_lightning/loops/evaluation_loop.py\", line 188, in setup_data\n",
            "    _check_dataloader_iterable(dl, source, trainer_fn)\n",
            "  File \"/usr/local/lib/python3.11/dist-packages/pytorch_lightning/trainer/connectors/data_connector.py\", line 402, in _check_dataloader_iterable\n",
            "    raise TypeError(\n",
            "TypeError: An invalid dataloader was returned from `SequenceLightningModule.val_dataloader()`. Found None.\n",
            "\n",
            "Set the environment variable HYDRA_FULL_ERROR=1 for a complete stack trace.\n",
            "\u001b[1;34mwandb\u001b[0m: \n",
            "\u001b[1;34mwandb\u001b[0m: 🚀 View run \u001b[33mcurious-durian-4\u001b[0m at: \u001b[34mhttps://wandb.ai/barabbas-independent/hippo/runs/hq0o16x8\u001b[0m\n"
          ]
        }
      ]
    }
  ]
}